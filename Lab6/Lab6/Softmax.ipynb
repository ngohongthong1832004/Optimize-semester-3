{
 "cells": [
  {
   "cell_type": "markdown",
   "id": "3fbaeaeb",
   "metadata": {},
   "source": [
    "# Softmax Regression"
   ]
  },
  {
   "cell_type": "markdown",
   "id": "fa27254d",
   "metadata": {},
   "source": [
    "## Softmax function trong Python"
   ]
  },
  {
   "cell_type": "code",
   "execution_count": 42,
   "id": "45635fbb",
   "metadata": {},
   "outputs": [],
   "source": [
    "import numpy as np \n",
    "\n",
    "def softmax(Z):\n",
    "    \"\"\"\n",
    "    Compute softmax values for each sets of scores in V.\n",
    "    each column of V is a set of score.    \n",
    "    \"\"\"\n",
    "    e_Z = np.exp(Z)\n",
    "    A = e_Z / e_Z.sum(axis = 0)\n",
    "    return A"
   ]
  },
  {
   "cell_type": "markdown",
   "id": "126e9c89",
   "metadata": {},
   "source": [
    "## Phiên bản ổn định hơn của softmax function"
   ]
  },
  {
   "cell_type": "code",
   "execution_count": 44,
   "id": "01a23e3a",
   "metadata": {},
   "outputs": [],
   "source": [
    "def softmax_stable(Z):\n",
    "    \"\"\"\n",
    "    Compute softmax values for each sets of scores in Z.\n",
    "    each column of Z is a set of score.    \n",
    "    \"\"\"\n",
    "    e_Z = np.exp(Z - np.max(Z, axis = 0, keepdims = True))\n",
    "    A = e_Z / e_Z.sum(axis = 0)\n",
    "    return A"
   ]
  },
  {
   "cell_type": "markdown",
   "id": "f52c0f7b",
   "metadata": {},
   "source": [
    "# Một vài lưu ý khi lập trình với Python"
   ]
  },
  {
   "cell_type": "markdown",
   "id": "cf693aa5",
   "metadata": {},
   "source": [
    "## Bắt đầu với dữ liệu nhỏ"
   ]
  },
  {
   "cell_type": "code",
   "execution_count": 48,
   "id": "39cb355b",
   "metadata": {},
   "outputs": [],
   "source": [
    "import numpy as np \n",
    "\n",
    "# randomly generate data \n",
    "N = 2 # number of training sample \n",
    "d = 2 # data dimension \n",
    "C = 3 # number of classes \n",
    "\n",
    "X = np.random.randn(d, N)\n",
    "y = np.random.randint(0, 3, (N,))"
   ]
  },
  {
   "cell_type": "markdown",
   "id": "c2e893e5",
   "metadata": {},
   "source": [
    "## Ma trận one-hot coding"
   ]
  },
  {
   "cell_type": "code",
   "execution_count": 51,
   "id": "48769e78",
   "metadata": {},
   "outputs": [],
   "source": [
    "## One-hot coding\n",
    "from scipy import sparse \n",
    "def convert_labels(y, C = C):\n",
    "    \"\"\"\n",
    "    convert 1d label to a matrix label: each column of this \n",
    "    matrix coresponding to 1 element in y. In i-th column of Y, \n",
    "    only one non-zeros element located in the y[i]-th position, \n",
    "    and = 1 ex: y = [0, 2, 1, 0], and 3 classes then return\n",
    "\n",
    "            [[1, 0, 0, 1],\n",
    "             [0, 0, 1, 0],\n",
    "             [0, 1, 0, 0]]\n",
    "    \"\"\"\n",
    "    Y = sparse.coo_matrix((np.ones_like(y), \n",
    "        (y, np.arange(len(y)))), shape = (C, len(y))).toarray()\n",
    "    return Y \n",
    "\n",
    "Y = convert_labels(y, C)"
   ]
  },
  {
   "cell_type": "markdown",
   "id": "7331d7ba",
   "metadata": {},
   "source": [
    "## Kiểm tra đạo hàm"
   ]
  },
  {
   "cell_type": "code",
   "execution_count": 54,
   "id": "1af9374b",
   "metadata": {},
   "outputs": [
    {
     "name": "stdout",
     "output_type": "stream",
     "text": [
      "2.0613298987576654e-10\n"
     ]
    }
   ],
   "source": [
    "# cost or loss function  \n",
    "def cost(X, Y, W):\n",
    "    A = softmax(W.T.dot(X))\n",
    "    return -np.sum(Y*np.log(A))\n",
    "\n",
    "W_init = np.random.randn(d, C)\n",
    "\n",
    "def grad(X, Y, W):\n",
    "    A = softmax((W.T.dot(X)))\n",
    "    E = A - Y\n",
    "    return X.dot(E.T)\n",
    "    \n",
    "def numerical_grad(X, Y, W, cost):\n",
    "    eps = 1e-6\n",
    "    g = np.zeros_like(W)\n",
    "    for i in range(W.shape[0]):\n",
    "        for j in range(W.shape[1]):\n",
    "            W_p = W.copy()\n",
    "            W_n = W.copy()\n",
    "            W_p[i, j] += eps \n",
    "            W_n[i, j] -= eps\n",
    "            g[i,j] = (cost(X, Y, W_p) - cost(X, Y, W_n))/(2*eps)\n",
    "    return g \n",
    "\n",
    "g1 = grad(X, Y, W_init)\n",
    "g2 = numerical_grad(X, Y, W_init, cost)\n",
    "\n",
    "print(np.linalg.norm(g1 - g2))"
   ]
  },
  {
   "cell_type": "markdown",
   "id": "072a59fc",
   "metadata": {},
   "source": [
    "## Hàm chính cho training Softmax Regression"
   ]
  },
  {
   "cell_type": "code",
   "execution_count": 57,
   "id": "745628f4",
   "metadata": {},
   "outputs": [],
   "source": [
    "def softmax_regression(X, y, W_init, eta, tol = 1e-4, max_count = 10000):\n",
    "    W = [W_init]    \n",
    "    C = W_init.shape[1]\n",
    "    Y = convert_labels(y, C)\n",
    "    it = 0\n",
    "    N = X.shape[1]\n",
    "    d = X.shape[0]\n",
    "    \n",
    "    count = 0\n",
    "    check_w_after = 20\n",
    "    while count < max_count:\n",
    "        # mix data \n",
    "        mix_id = np.random.permutation(N)\n",
    "        for i in mix_id:\n",
    "            xi = X[:, i].reshape(d, 1)\n",
    "            yi = Y[:, i].reshape(C, 1)\n",
    "            ai = softmax(np.dot(W[-1].T, xi))\n",
    "            W_new = W[-1] + eta*xi.dot((yi - ai).T)\n",
    "            count += 1\n",
    "            # stopping criteria\n",
    "            if count%check_w_after == 0:                \n",
    "                if np.linalg.norm(W_new - W[-check_w_after]) < tol:\n",
    "                    return W\n",
    "            W.append(W_new)\n",
    "    return W\n",
    "eta = .05 \n",
    "d = X.shape[0]\n",
    "W_init = np.random.randn(d, C)\n",
    "\n",
    "W = softmax_regression(X, y, W_init, eta)\n",
    "# W[-1] is the solution, W is all history of weights"
   ]
  },
  {
   "cell_type": "markdown",
   "id": "baf9ec73",
   "metadata": {},
   "source": [
    "## Hàm dự đoán class cho dữ liệu mới"
   ]
  },
  {
   "cell_type": "code",
   "execution_count": 59,
   "id": "da0e80c1",
   "metadata": {},
   "outputs": [],
   "source": [
    "def pred(W, X):\n",
    "    \"\"\"\n",
    "    predict output of each columns of X\n",
    "    Class of each x_i is determined by location of max probability\n",
    "    Note that class are indexed by [0, 1, 2, ...., C-1]\n",
    "    \"\"\"\n",
    "    A = softmax_stable(W.T.dot(X))\n",
    "    return np.argmax(A, axis = 0)"
   ]
  },
  {
   "cell_type": "markdown",
   "id": "3a31e71d",
   "metadata": {},
   "source": [
    "# Ví dụ"
   ]
  },
  {
   "cell_type": "markdown",
   "id": "5a6258e9",
   "metadata": {},
   "source": [
    "### Tạo ba cụm dữ liệu"
   ]
  },
  {
   "cell_type": "code",
   "execution_count": 61,
   "id": "8b9ac794",
   "metadata": {},
   "outputs": [],
   "source": [
    "means = [[2, 2], [8, 3], [3, 6]]\n",
    "cov = [[1, 0], [0, 1]]\n",
    "N = 500\n",
    "X0 = np.random.multivariate_normal(means[0], cov, N)\n",
    "X1 = np.random.multivariate_normal(means[1], cov, N)\n",
    "X2 = np.random.multivariate_normal(means[2], cov, N)\n",
    "\n",
    "# each column is a datapoint\n",
    "X = np.concatenate((X0, X1, X2), axis = 0).T \n",
    "# extended data\n",
    "X = np.concatenate((np.ones((1, 3*N)), X), axis = 0)\n",
    "C = 3\n",
    "\n",
    "original_label = np.asarray([0]*N + [1]*N + [2]*N).T"
   ]
  },
  {
   "cell_type": "markdown",
   "id": "d767e029",
   "metadata": {},
   "source": [
    "![logistic_regression](img/soft_1.png)"
   ]
  },
  {
   "cell_type": "markdown",
   "id": "60be7373",
   "metadata": {},
   "source": [
    "### Thực hiện Softmax Regression"
   ]
  },
  {
   "cell_type": "code",
   "execution_count": 63,
   "id": "8ed70ab8",
   "metadata": {},
   "outputs": [
    {
     "name": "stdout",
     "output_type": "stream",
     "text": [
      "[[ 8.21965722 -3.63854138 -3.98556464]\n",
      " [-0.66944051  1.86525481 -0.57262114]\n",
      " [-0.04153049 -0.36961255  2.86295786]]\n"
     ]
    }
   ],
   "source": [
    "W_init = np.random.randn(X.shape[0], C)\n",
    "W = softmax_regression(X, original_label, W_init, eta)\n",
    "print(W[-1])"
   ]
  },
  {
   "cell_type": "markdown",
   "id": "ed0cb0fd",
   "metadata": {},
   "source": [
    "Kết quả thu được"
   ]
  },
  {
   "cell_type": "markdown",
   "id": "4b0aaca1",
   "metadata": {},
   "source": [
    "![logistic_regression](img/soft_2.png)"
   ]
  },
  {
   "cell_type": "code",
   "execution_count": null,
   "id": "19d83bd8",
   "metadata": {},
   "outputs": [],
   "source": []
  },
  {
   "cell_type": "code",
   "execution_count": null,
   "id": "4f563d13-c71a-4938-95c4-c910644f55b7",
   "metadata": {},
   "outputs": [],
   "source": []
  },
  {
   "cell_type": "code",
   "execution_count": null,
   "id": "643eec8a-393f-48e6-b2bf-cd203f1cda5b",
   "metadata": {},
   "outputs": [],
   "source": []
  },
  {
   "cell_type": "code",
   "execution_count": null,
   "id": "47e919d2-45d5-4a67-8c3f-6fce8906a71e",
   "metadata": {},
   "outputs": [],
   "source": []
  },
  {
   "cell_type": "code",
   "execution_count": null,
   "id": "2e22f85b-b69a-423e-b7d4-4d24ce0ad159",
   "metadata": {},
   "outputs": [],
   "source": []
  },
  {
   "cell_type": "code",
   "execution_count": null,
   "id": "0aa1799d-de11-47cd-bcf8-58ab474d16ec",
   "metadata": {},
   "outputs": [],
   "source": []
  },
  {
   "cell_type": "code",
   "execution_count": null,
   "id": "57fd2612-e597-4555-bc79-df7b4add1777",
   "metadata": {},
   "outputs": [],
   "source": []
  }
 ],
 "metadata": {
  "kernelspec": {
   "display_name": "Python 3 (ipykernel)",
   "language": "python",
   "name": "python3"
  },
  "language_info": {
   "codemirror_mode": {
    "name": "ipython",
    "version": 3
   },
   "file_extension": ".py",
   "mimetype": "text/x-python",
   "name": "python",
   "nbconvert_exporter": "python",
   "pygments_lexer": "ipython3",
   "version": "3.11.5"
  }
 },
 "nbformat": 4,
 "nbformat_minor": 5
}
