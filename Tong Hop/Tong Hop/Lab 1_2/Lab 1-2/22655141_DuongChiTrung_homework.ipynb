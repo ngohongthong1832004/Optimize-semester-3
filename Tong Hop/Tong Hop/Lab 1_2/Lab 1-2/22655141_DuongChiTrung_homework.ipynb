{
 "cells": [
  {
   "cell_type": "markdown",
   "metadata": {},
   "source": [
    "# Đường Chí Trung 22655141"
   ]
  },
  {
   "cell_type": "markdown",
   "metadata": {},
   "source": [
    "## Câu 1: Linear programming example 1997 UG exam"
   ]
  },
  {
   "cell_type": "code",
   "execution_count": 1,
   "metadata": {},
   "outputs": [],
   "source": [
    "import cvxpy as cp\n",
    "import numpy as np\n",
    "import pulp as p\n",
    "from scipy.optimize import linprog\n"
   ]
  },
  {
   "cell_type": "markdown",
   "metadata": {},
   "source": [
    "### Use cvxpy"
   ]
  },
  {
   "cell_type": "code",
   "execution_count": 2,
   "metadata": {},
   "outputs": [
    {
     "name": "stdout",
     "output_type": "stream",
     "text": [
      "z = 1.2499999996679705\n",
      "x = 45.000000000157975\n",
      "y = 6.249999999509994\n"
     ]
    }
   ],
   "source": [
    "x = cp.Variable()\n",
    "y = cp.Variable()\n",
    "\n",
    "constraints = [\n",
    "    50*x +24*y <= 2400,\n",
    "    30*x + 33*y <= 2100,\n",
    "    x >= 45,\n",
    "    y >= 5\n",
    "]\n",
    "\n",
    "objective = cp.Maximize(x+y-50)\n",
    "problem = cp.Problem(objective, constraints)\n",
    "result = problem.solve()\n",
    "\n",
    "print(f\"z = {result}\")\n",
    "print(f\"x = {x.value}\")\n",
    "print(f\"y = {y.value}\")"
   ]
  },
  {
   "cell_type": "code",
   "execution_count": 66,
   "metadata": {},
   "outputs": [
    {
     "name": "stdout",
     "output_type": "stream",
     "text": [
      "x1 = [45.]\n",
      "x2 = [6.25]\n",
      "Objective:  1.2499999996679705\n"
     ]
    }
   ],
   "source": [
    "x = cp.Variable(shape=(2,1), name=\"x\")\n",
    "\n",
    "A = np.array([[50, 24],\n",
    "              [30, 33]])\n",
    "B = np.array([[2400], [2100]])\n",
    "\n",
    "constraints = [\n",
    "    cp.matmul(A[0], x) <= B[0],\n",
    "    cp.matmul(A[1], x) <= B[1], \n",
    "    x[0] >= 45,  # x1 >= 45\n",
    "    x[1] >= 5    # x2 >= 5\n",
    "]\n",
    "\n",
    "objective = cp.Maximize(cp.sum(x, axis=0)-50)\n",
    "problem = cp.Problem(objective, constraints)\n",
    "solution = problem.solve()\n",
    "\n",
    "print(\"x1 =\", x.value[0])\n",
    "print(\"x2 =\", x.value[1])\n",
    "print(\"Objective: \", objective.value)"
   ]
  },
  {
   "cell_type": "markdown",
   "metadata": {},
   "source": [
    "### Use PuLP"
   ]
  },
  {
   "cell_type": "code",
   "execution_count": 67,
   "metadata": {},
   "outputs": [
    {
     "name": "stdout",
     "output_type": "stream",
     "text": [
      "x1 = 45.0\n",
      "x2 = 6.25\n",
      "Objective:  1.25\n"
     ]
    }
   ],
   "source": [
    "prob = p.LpProblem(\"Maximize_Stock\", p.LpMaximize)\n",
    "\n",
    "x = [p.LpVariable(f\"x{i}\", lowBound=lb) for i, lb in enumerate([45, 5])]\n",
    "\n",
    "prob += x[0] + x[1] - 50, \"Objective\"\n",
    "\n",
    "prob += 50 * x[0] + 24 * x[1] <= 2400, \"Machine A Time\"\n",
    "prob += 30 * x[0] + 33 * x[1] <= 2100, \"Machine B Time\"\n",
    "\n",
    "prob.solve()\n",
    "\n",
    "\n",
    "print(\"x1 =\", p.value(x[0]))\n",
    "print(\"x2 =\", p.value(x[1]))\n",
    "print(\"Objective: \", p.value(prob.objective))\n"
   ]
  },
  {
   "cell_type": "markdown",
   "metadata": {},
   "source": [
    "### Use scipy"
   ]
  },
  {
   "cell_type": "code",
   "execution_count": 68,
   "metadata": {},
   "outputs": [
    {
     "name": "stdout",
     "output_type": "stream",
     "text": [
      "x = 45.0\n",
      "y = 6.25\n",
      "Objective:  1.25\n"
     ]
    }
   ],
   "source": [
    "c = [-1, -1]\n",
    "\n",
    "A = [[50, 24],\n",
    "     [30, 33],\n",
    "     [-1, 0],\n",
    "     [0, -1]]\n",
    "\n",
    "b = [2400, 2100, -45, -5]\n",
    "\n",
    "bnd = [(0, float(\"inf\")),  # Bounds of x\n",
    "        (0, float(\"inf\"))]  # Bounds of y\n",
    "\n",
    "# Solve the problem\n",
    "res = linprog(c, A_ub=A, b_ub=b, bounds=bnd, method='highs')\n",
    "\n",
    "# Print the solution\n",
    "print(\"x =\", res.x[0])\n",
    "print(\"y =\", res.x[1])\n",
    "print(\"Objective: \", -(res.fun + 50))\n"
   ]
  },
  {
   "cell_type": "markdown",
   "metadata": {},
   "source": [
    "## Câu 2: Linear programming example 1995 UG exam"
   ]
  },
  {
   "cell_type": "code",
   "execution_count": 69,
   "metadata": {},
   "outputs": [
    {
     "name": "stdout",
     "output_type": "stream",
     "text": [
      "Dự đoán: 37\n"
     ]
    }
   ],
   "source": [
    "# Sản phẩm 1\n",
    "product1 = [23, 27, 34, 40]\n",
    "alpha = 0.7\n",
    "\n",
    "M1 = product1[0]\n",
    "M2 = alpha * product1[1] + (1 - alpha) * M1\n",
    "M3 = alpha * product1[2] + (1 - alpha) * M2\n",
    "M4 = alpha * product1[3] + (1 - alpha) * M3\n",
    "\n",
    "predict = round(M4)\n",
    "\n",
    "print(\"Dự đoán:\", predict)\n"
   ]
  },
  {
   "cell_type": "code",
   "execution_count": 70,
   "metadata": {},
   "outputs": [
    {
     "name": "stdout",
     "output_type": "stream",
     "text": [
      "Dự đoán: 14\n"
     ]
    }
   ],
   "source": [
    "# Sản phẩm 2\n",
    "product2 = [11, 13, 15, 14]\n",
    "\n",
    "M1 = product2[0]\n",
    "M2 = alpha * product2[1] + (1 - alpha) * M1\n",
    "M3 = alpha * product2[2] + (1 - alpha) * M2\n",
    "M4 = alpha * product2[3] + (1 - alpha) * M3\n",
    "\n",
    "predict = round(M4)\n",
    "\n",
    "print(\"Dự đoán:\", predict)\n"
   ]
  },
  {
   "cell_type": "markdown",
   "metadata": {},
   "source": [
    "### Use cvxpy"
   ]
  },
  {
   "cell_type": "code",
   "execution_count": 71,
   "metadata": {},
   "outputs": [
    {
     "name": "stdout",
     "output_type": "stream",
     "text": [
      "Sp1:  [35.99999999]\n",
      "Sp2:  [2.00636776e-08]\n",
      "Objective:  342.9999999221164\n"
     ]
    }
   ],
   "source": [
    "x = cp.Variable(shape=(2,1), nonneg=True)\n",
    "\n",
    "A = np.array([[15, 7],\n",
    "              [25, 45]])\n",
    "B = np.array([[1200], [900]])\n",
    "\n",
    "constraints = [\n",
    "    cp.matmul(A[0], x) <= B[0],\n",
    "    cp.matmul(A[1], x) <= B[1], \n",
    "    x[0] <= 37, \n",
    "    x[1] <= 45\n",
    "]\n",
    "\n",
    "# Tạo bài toán và giải\n",
    "objective = cp.Maximize(13*x[0] + 5*x[1] - 125)\n",
    "\n",
    "problem = cp.Problem(objective, constraints)\n",
    "problem.solve()\n",
    "\n",
    "# Xuất kết quả\n",
    "print(\"Sp1: \", x.value[0])\n",
    "print(\"Sp2: \", x.value[1])\n",
    "print(\"Objective: \", problem.value)\n"
   ]
  },
  {
   "cell_type": "markdown",
   "metadata": {},
   "source": [
    "### Use PuLP"
   ]
  },
  {
   "cell_type": "code",
   "execution_count": 72,
   "metadata": {},
   "outputs": [
    {
     "name": "stdout",
     "output_type": "stream",
     "text": [
      "x1 = 36.0\n",
      "x2 = 0.0\n",
      "Objective:  343.0\n"
     ]
    }
   ],
   "source": [
    "prob = p.LpProblem(\"Maximize_Profit\", p.LpMaximize)\n",
    "\n",
    "x = [p.LpVariable(f\"x{i+1}\", lowBound=0) for i in range(2)]\n",
    "\n",
    "prob += 13 * x[0] + 5 * x[1] - 125, \"Objective\"\n",
    "\n",
    "prob += 15 * x[0] + 7 * x[1] <= 1200\n",
    "prob += 25 * x[0] + 45 * x[1] <= 900\n",
    "prob += x[0] <= 37\n",
    "prob += x[1] <= 14\n",
    "\n",
    "prob.solve()\n",
    "\n",
    "print(\"x1 =\", p.value(x[0]))\n",
    "print(\"x2 =\", p.value(x[1]))\n",
    "print(\"Objective: \", p.value(prob.objective))\n"
   ]
  },
  {
   "cell_type": "markdown",
   "metadata": {},
   "source": [
    "### Use scipy"
   ]
  },
  {
   "cell_type": "code",
   "execution_count": 73,
   "metadata": {},
   "outputs": [
    {
     "name": "stdout",
     "output_type": "stream",
     "text": [
      "Sp1 = 36.0\n",
      "Sp2) = 0.0\n",
      "Objective:  343.0\n"
     ]
    }
   ],
   "source": [
    "c = [-13, -5]\n",
    "\n",
    "A = [[15, 7],\n",
    "     [25, 45],\n",
    "     [1, 0],\n",
    "     [0, 1]]\n",
    "\n",
    "b = [1200, 900, 37, 14]\n",
    "\n",
    "bnd = [(0, float(\"inf\")),  \n",
    "        (0, float(\"inf\"))]  \n",
    "\n",
    "res = linprog(c, A_ub=A, b_ub=b, bounds=bnd, method='highs')\n",
    "\n",
    "print(\"Sp1 =\", res.x[0])\n",
    "print(\"Sp2) =\", res.x[1])\n",
    "print(\"Objective: \", -(res.fun + 125))\n"
   ]
  },
  {
   "cell_type": "markdown",
   "metadata": {},
   "source": [
    "## Câu 3: Linear programming example 1994 UG exam"
   ]
  },
  {
   "cell_type": "markdown",
   "metadata": {},
   "source": [
    "### Use cvxpy"
   ]
  },
  {
   "cell_type": "code",
   "execution_count": 74,
   "metadata": {},
   "outputs": [
    {
     "name": "stdout",
     "output_type": "stream",
     "text": [
      "Sp1 = [10.0000002]\n",
      "Sp2 = [65.51724124]\n",
      "Objective:  1866.381827400463\n"
     ]
    }
   ],
   "source": [
    "x = cp.Variable(shape=(2,1), nonneg=True)\n",
    "\n",
    "A = np.array([[13, 19],\n",
    "              [20, 29]])\n",
    "B = np.array([[2400], [2100]])\n",
    "\n",
    "constraints = [\n",
    "    cp.matmul(A[0], x) <= B[0],\n",
    "    cp.matmul(A[1], x) <= B[1], \n",
    "    x[0] >= 0, \n",
    "    x[0] >= 10,\n",
    "    x[1] >= 0\n",
    "]\n",
    "\n",
    "# Tạo bài toán và giải\n",
    "objective = cp.Maximize(17.1667*x[0] + 25.8667*x[1])\n",
    "\n",
    "problem = cp.Problem(objective, constraints)\n",
    "problem.solve()\n",
    "\n",
    "# Xuất kết quả\n",
    "print(\"Sp1 =\", x.value[0])\n",
    "print(\"Sp2 =\", x.value[1])\n",
    "print(\"Objective: \", problem.value)\n"
   ]
  },
  {
   "cell_type": "markdown",
   "metadata": {},
   "source": [
    "### Use PuLP"
   ]
  },
  {
   "cell_type": "code",
   "execution_count": 75,
   "metadata": {},
   "outputs": [
    {
     "name": "stdout",
     "output_type": "stream",
     "text": [
      "x = 10.0\n",
      "y = 65.517241\n",
      "Objective:  1866.3818177747\n"
     ]
    }
   ],
   "source": [
    "prob = p.LpProblem(\"ProductionProblem\", p.LpMaximize)\n",
    "\n",
    "variables = [p.LpVariable(\"x\", lowBound=10), p.LpVariable(\"y\", lowBound=0)]\n",
    "\n",
    "prob += 17.1667 * variables[0] + 25.8667 * variables[1]\n",
    "\n",
    "prob += 13 * variables[0] + 19 * variables[1] <= 2400\n",
    "prob += 20 * variables[0] + 29 * variables[1] <= 2100\n",
    "\n",
    "prob.solve()\n",
    "\n",
    "print(\"x =\", p.value(variables[0]))\n",
    "print(\"y =\", p.value(variables[1]))\n",
    "print(\"Objective: \", p.value(prob.objective))\n"
   ]
  },
  {
   "cell_type": "markdown",
   "metadata": {},
   "source": [
    "### Use scipy"
   ]
  },
  {
   "cell_type": "code",
   "execution_count": 76,
   "metadata": {},
   "outputs": [
    {
     "name": "stdout",
     "output_type": "stream",
     "text": [
      "x = 10.0\n",
      "y = 65.51724137931035\n",
      "Objective:  1866.381827586207\n"
     ]
    }
   ],
   "source": [
    "c = [-17.1667, -25.8667] # Minimize -(17.1667*x + 25.8667*y) is the same as maximizing (17.1667*x + 25.8667*y)\n",
    "\n",
    "A = [[13, 19],\n",
    "     [20, 29],\n",
    "     [-1, 0]]\n",
    "\n",
    "b = [2400, 2100, -10]\n",
    "\n",
    "bnd = [(0, float(\"inf\")),\n",
    "       (0, float(\"inf\"))]\n",
    "\n",
    "res = linprog(c, A_ub=A, b_ub=b, bounds=bnd, method='highs')\n",
    "\n",
    "print(\"x =\", res.x[0])\n",
    "print(\"y =\", res.x[1])\n",
    "print(\"Objective: \", -res.fun)"
   ]
  },
  {
   "cell_type": "markdown",
   "metadata": {},
   "source": [
    "## Câu 4: Linear programming example 1992 UG exam"
   ]
  },
  {
   "cell_type": "markdown",
   "metadata": {},
   "source": [
    "### Use cvxpy"
   ]
  },
  {
   "cell_type": "code",
   "execution_count": 77,
   "metadata": {},
   "outputs": [
    {
     "name": "stdout",
     "output_type": "stream",
     "text": [
      "A = [81.81818027]\n",
      "B = [32.72727323]\n",
      "Objective funnction = 409.0909069545668\n",
      "\n",
      "Sau khi thuê thêm máy:\n",
      "A = [163.63636054]\n",
      "B = [65.45454646]\n",
      "Objective : 818.1818139086172\n"
     ]
    }
   ],
   "source": [
    "x = cp.Variable(shape=(2,1), nonneg=True)\n",
    "\n",
    "A = np.array([[12, 25],\n",
    "              [-0.4, 1]])\n",
    "B = np.array([[1800], [0]])\n",
    "\n",
    "constraints = [\n",
    "    cp.matmul(A[0], x) <= B[0],\n",
    "    cp.matmul(A[1], x) >= B[1], \n",
    "    x[0] >= 0, \n",
    "    x[1] >= 0\n",
    "]\n",
    "\n",
    "objective = cp.Maximize(3 * x[0] + 5 * x[1])\n",
    "\n",
    "problem = cp.Problem(objective, constraints)\n",
    "problem.solve()\n",
    "\n",
    "print(\"A =\", x.value[0])\n",
    "print(\"B =\", x.value[1])\n",
    "print(\"Objective funnction =\", objective.value)\n",
    "\n",
    "# Nếu thuê thêm máy\n",
    "C = np.array([[3600], [0]])\n",
    "\n",
    "new_constraints = [\n",
    "    cp.matmul(A[0], x) <= C[0],\n",
    "    cp.matmul(A[1], x) >= C[1], \n",
    "    x[0] >= 0, \n",
    "    x[1] >= 0\n",
    "]\n",
    "\n",
    "\n",
    "new_problem = cp.Problem(objective, new_constraints)\n",
    "new_problem.solve()\n",
    "\n",
    "print(\"\\nSau khi thuê thêm máy:\")\n",
    "print(\"A =\", x[0].value)\n",
    "print(\"B =\", x[1].value)\n",
    "print(\"Objective :\", objective.value)"
   ]
  },
  {
   "cell_type": "markdown",
   "metadata": {},
   "source": [
    "### Use PuLP"
   ]
  },
  {
   "cell_type": "code",
   "execution_count": 78,
   "metadata": {},
   "outputs": [
    {
     "name": "stdout",
     "output_type": "stream",
     "text": [
      "A ="
     ]
    },
    {
     "name": "stdout",
     "output_type": "stream",
     "text": [
      " 81.818182\n",
      "B = 32.727273\n",
      "Objective:  409.090911\n",
      "\n",
      "Sau khi thuê thêm máy:\n",
      "A = 163.63636\n",
      "B = 65.454545\n",
      "Objective:  818.1818049999999\n"
     ]
    }
   ],
   "source": [
    "prob = p.LpProblem(\"Maximize_Profit\", p.LpMaximize)\n",
    "\n",
    "x = p.LpVariable.dicts(\"x\", [0, 1], lowBound=0)\n",
    "\n",
    "prob += 3 * x[0] + 5 * x[1], \"Objective\"\n",
    "\n",
    "prob += 12 * x[0] + 25 * x[1] <= 1800  # Thời gian lắp ráp\n",
    "prob += -0.4 * x[0] + 1 * x[1] >= 0    # Ràng buộc công nghệ\n",
    "\n",
    "prob.solve()\n",
    "\n",
    "print(\"A =\", p.value(x[0]))\n",
    "print(\"B =\", p.value(x[1]))\n",
    "print(\"Objective: \", p.value(prob.objective))\n",
    "\n",
    "new_prob = p.LpProblem(\"Maximize_Profit_with_New_Machine\", p.LpMaximize)\n",
    "\n",
    "new_prob += 3 * x[0] + 5 * x[1], \"Objective\"\n",
    "\n",
    "new_prob += 12 * x[0] + 25 * x[1] <= 3600  # Thời gian lắp ráp\n",
    "new_prob += -0.4 * x[0] + 1 * x[1] >= 0    # Ràng buộc công nghệ\n",
    "\n",
    "new_prob.solve()\n",
    "\n",
    "print(\"\\nSau khi thuê thêm máy:\")\n",
    "print(\"A =\", p.value(x[0]))\n",
    "print(\"B =\", p.value(x[1]))\n",
    "print(\"Objective: \", p.value(new_prob.objective))\n"
   ]
  },
  {
   "cell_type": "markdown",
   "metadata": {},
   "source": [
    "### Use scipy"
   ]
  },
  {
   "cell_type": "code",
   "execution_count": 79,
   "metadata": {},
   "outputs": [
    {
     "name": "stdout",
     "output_type": "stream",
     "text": [
      "A = 81.81818181818181\n",
      "B = 32.72727272727273\n",
      "Objective:  409.09090909090907\n",
      "\n",
      "Ssau khi thuê thêm máy:\n",
      "(x[0]) = 163.63636363636363\n",
      "(x[1]) = 65.45454545454545\n",
      "Objective:  818.1818181818181\n"
     ]
    }
   ],
   "source": [
    "c = [-3, -5] # Minimize -(3*xA + 5*xB) is the same as maximizing (3*xA + 5*xB)\n",
    "\n",
    "A = [\n",
    "    [12, 25],    # Thời gian lắp ráp\n",
    "    [0.4, -1]    # Ràng buộc công nghệ\n",
    "]\n",
    "\n",
    "b = [1800, 0]\n",
    "\n",
    "bnd = [(0, float(\"inf\")),  # Giới hạn của xA\n",
    "       (0, float(\"inf\"))]  # Giới hạn của xB\n",
    "\n",
    "res = linprog(c, A_ub=A, b_ub=b, bounds=bnd, method='highs')\n",
    "\n",
    "print(\"A =\", res.x[0])\n",
    "print(\"B =\", res.x[1])\n",
    "print(\"Objective: \", -res.fun)\n",
    "\n",
    "# Nếu thuê thêm máy\n",
    "new_b = [3600, 0]\n",
    "new_res = linprog(c, A_ub=A, b_ub=new_b, bounds=bnd, method='highs')\n",
    "\n",
    "print(\"\\nSsau khi thuê thêm máy:\")\n",
    "print(\"(x[0]) =\", new_res.x[0])\n",
    "print(\"(x[1]) =\", new_res.x[1])\n",
    "print(\"Objective: \", -new_res.fun)\n"
   ]
  },
  {
   "cell_type": "markdown",
   "metadata": {},
   "source": [
    "## Câu 5: Linear programming example 1988 UG exam"
   ]
  },
  {
   "cell_type": "markdown",
   "metadata": {},
   "source": [
    "### Use cvxpy"
   ]
  },
  {
   "cell_type": "code",
   "execution_count": 80,
   "metadata": {},
   "outputs": [
    {
     "name": "stdout",
     "output_type": "stream",
     "text": [
      "a = [7.99999999]\n",
      "b = [2.99999998]\n",
      "c = [10.99999997]\n",
      "Objective:  112.99999967125498\n"
     ]
    }
   ],
   "source": [
    "x = cp.Variable(shape=(3,1), name=\"x\")\n",
    "\n",
    "objective = cp.Minimize(4*x[0] + 5*x[1] + 6*x[2])\n",
    "\n",
    "A = np.array([[1, 1, 0],\n",
    "              [1, -1, 0],\n",
    "              [-1, -1, 1]])\n",
    "B = np.array([[11], [5], [0]])\n",
    "\n",
    "constraints = [\n",
    "    cp.matmul(A[0], x) >= B[0],\n",
    "    cp.matmul(A[1], x) <= B[1], \n",
    "    cp.matmul(A[2], x) == B[2],\n",
    "    x[0] >= 0,  \n",
    "    x[1] >= 0,   \n",
    "    x[1] >= 0\n",
    "]\n",
    "\n",
    "\n",
    "problem = cp.Problem(objective, constraints)\n",
    "problem.solve()\n",
    "\n",
    "print(\"a =\", x[0].value)\n",
    "print(\"b =\", x[1].value)\n",
    "print(\"c =\", x[2].value)\n",
    "# print(\"c =\", a.value + b.value)\n",
    "print(\"Objective: \", objective.value)\n"
   ]
  },
  {
   "cell_type": "markdown",
   "metadata": {},
   "source": [
    "### Use PuLP"
   ]
  },
  {
   "cell_type": "code",
   "execution_count": 81,
   "metadata": {},
   "outputs": [
    {
     "name": "stdout",
     "output_type": "stream",
     "text": [
      "a = 8.0\n",
      "b = 3.0\n",
      "c = 11.0\n",
      "Objective:  113.0\n"
     ]
    }
   ],
   "source": [
    "prob = p.LpProblem(\"Minimize_Objective\", p.LpMinimize)\n",
    "\n",
    "x = p.LpVariable.dicts(\"x\", [0, 1], lowBound=0)\n",
    "\n",
    "prob += 10 * x[0] + 11 * x[1], \"Objective\"\n",
    "\n",
    "prob += x[0] + x[1] >= 11\n",
    "prob += x[0] - x[1] <= 5\n",
    "prob += 7 * x[0] + 12 * x[1] >= 35\n",
    "\n",
    "prob.solve()\n",
    "\n",
    "print(\"a =\", p.value(x[0]))\n",
    "print(\"b =\", p.value(x[1]))\n",
    "print(\"c =\", p.value(x[0]) + p.value(x[1]))\n",
    "print(\"Objective: \", p.value(prob.objective))\n"
   ]
  },
  {
   "cell_type": "markdown",
   "metadata": {},
   "source": [
    "### Use scipy"
   ]
  },
  {
   "cell_type": "code",
   "execution_count": 82,
   "metadata": {},
   "outputs": [
    {
     "name": "stdout",
     "output_type": "stream",
     "text": [
      "a = 8.0\n",
      "b = 3.0\n",
      "c = 11.0\n",
      "Objective:  113.0\n"
     ]
    }
   ],
   "source": [
    "c = [10, 11]  \n",
    "\n",
    "A = [\n",
    "    [-1, -1],  \n",
    "    [1, -1],   \n",
    "    [-7, -12] \n",
    "]\n",
    "\n",
    "b = [-11, 5, -35]\n",
    "\n",
    "bnd = [(0, float(\"inf\")),  # Giới hạn của a\n",
    "       (0, float(\"inf\"))]  # Giới hạn của b\n",
    "\n",
    "res = linprog(c, A_ub=A, b_ub=b, bounds=bnd, method='highs')\n",
    "\n",
    "print(\"a =\", res.x[0])\n",
    "print(\"b =\", res.x[1])\n",
    "print(\"c =\", res.x[0] + res.x[1])  # c = a + b\n",
    "print(\"Objective: \", res.fun)\n"
   ]
  },
  {
   "cell_type": "markdown",
   "metadata": {},
   "source": [
    "## Câu 6: Linear programming example 1987 UG exam"
   ]
  },
  {
   "cell_type": "markdown",
   "metadata": {},
   "source": [
    "### Use cvxpy"
   ]
  },
  {
   "cell_type": "code",
   "execution_count": 83,
   "metadata": {},
   "outputs": [
    {
     "name": "stdout",
     "output_type": "stream",
     "text": [
      "x1 = [5.22222223]\n",
      "x2 = [2.22222222]\n",
      "Objective:  39.44444444071772\n"
     ]
    }
   ],
   "source": [
    "x = cp.Variable(shape=(2,1), name=\"x\")\n",
    "\n",
    "A = np.array([[1, 1],\n",
    "              [1, -1],\n",
    "              [5, 4]])\n",
    "B = np.array([[10], [3], [35]])\n",
    "\n",
    "objective = cp.Maximize(5*x[0] + 6*x[1])\n",
    "\n",
    "constraints = [\n",
    "    cp.matmul(A[0], x) <= B[0],\n",
    "    cp.matmul(A[1], x) >= B[1], \n",
    "    cp.matmul(A[2], x) <= B[2],\n",
    "    x[0] >= 0,  \n",
    "    x[1] >= 0\n",
    "]\n",
    "\n",
    "problem = cp.Problem(objective, constraints)\n",
    "problem.solve()\n",
    "\n",
    "print(\"x1 =\", x[0].value)\n",
    "print(\"x2 =\", x[1].value)\n",
    "print(\"Objective: \", objective.value)\n"
   ]
  },
  {
   "cell_type": "markdown",
   "metadata": {},
   "source": [
    "### Use PuLP"
   ]
  },
  {
   "cell_type": "code",
   "execution_count": 84,
   "metadata": {},
   "outputs": [
    {
     "name": "stdout",
     "output_type": "stream",
     "text": [
      "x1 = 5.2222222\n",
      "x2 = 2.2222222\n",
      "Objective : 39.4444442\n"
     ]
    }
   ],
   "source": [
    "prob = p.LpProblem(\"Maximize_Profit\", p.LpMaximize)\n",
    "\n",
    "x = [p.LpVariable(f\"x{i+1}\", lowBound=0) for i in range(2)]\n",
    "\n",
    "prob += 5*x[0] + 6*x[1], \"Objective\"\n",
    "\n",
    "prob += x[0] + x[1] <= 10, \"Constraint 1\"\n",
    "prob += x[0] - x[1] >= 3, \"Constraint 2\"\n",
    "prob += 5*x[0] + 4*x[1] <= 35, \"Constraint 3\"\n",
    "\n",
    "prob.solve()\n",
    "\n",
    "\n",
    "print(\"x1 =\", p.value(x[0]))\n",
    "print(\"x2 =\", p.value(x[1]))\n",
    "print(\"Objective :\", p.value(prob.objective))\n"
   ]
  },
  {
   "cell_type": "markdown",
   "metadata": {},
   "source": [
    "### Use scipy"
   ]
  },
  {
   "cell_type": "code",
   "execution_count": 85,
   "metadata": {},
   "outputs": [
    {
     "name": "stdout",
     "output_type": "stream",
     "text": [
      "x1 = 5.222222222222222\n",
      "x2 = 2.2222222222222223\n",
      "Objective : 39.44444444444444\n"
     ]
    }
   ],
   "source": [
    "c = [-5, -6]\n",
    "\n",
    "A = [[1, 1],\n",
    "     [-1, 1],\n",
    "     [5, 4]]\n",
    "\n",
    "b = [10, -3, 35]\n",
    "\n",
    "bnd = [(0, float(\"inf\")), \n",
    "       (0, float(\"inf\"))] \n",
    "\n",
    "# Giải bài toán\n",
    "res = linprog(c, A_ub=A, b_ub=b, bounds=bnd, method='highs')\n",
    "\n",
    "print(\"x1 =\", res.x[0])\n",
    "print(\"x2 =\", res.x[1])\n",
    "print(\"Objective :\", -res.fun)\n"
   ]
  },
  {
   "cell_type": "markdown",
   "metadata": {},
   "source": [
    "### Câu 7: Linear programming example 1986 UG exam"
   ]
  },
  {
   "cell_type": "markdown",
   "metadata": {},
   "source": [
    "### Use cvxpy"
   ]
  },
  {
   "cell_type": "code",
   "execution_count": 86,
   "metadata": {},
   "outputs": [
    {
     "name": "stdout",
     "output_type": "stream",
     "text": [
      "xT = [1.33333333]\n",
      "xC = [10.66666667]\n",
      "Objective : 146.66666670611508\n"
     ]
    }
   ],
   "source": [
    "x = cp.Variable(shape=(2,1), name=\"x\")\n",
    "\n",
    "A = np.array([[6, 3],\n",
    "              [-3, 1],\n",
    "              [1, 0.25]])\n",
    "B = np.array([[40], [0], [4]])\n",
    "\n",
    "objective = cp.Maximize(30*x[0] + 10*x[1])\n",
    "\n",
    "constraints = [\n",
    "    cp.matmul(A[0], x) <= B[0],\n",
    "    cp.matmul(A[1], x) >= B[1], \n",
    "    cp.matmul(A[2], x) <= B[2],\n",
    "    x[0] >= 0,  \n",
    "    x[1] >= 0\n",
    "]\n",
    "\n",
    "objective = cp.Maximize(30*x[0] + 10*x[1])\n",
    "\n",
    "\n",
    "problem = cp.Problem(objective, constraints)\n",
    "problem.solve()\n",
    "\n",
    "print(\"xT =\", x[0].value)\n",
    "print(\"xC =\", x[1].value)\n",
    "print(\"Objective :\", objective.value)"
   ]
  },
  {
   "cell_type": "markdown",
   "metadata": {},
   "source": [
    "### Use PuLP"
   ]
  },
  {
   "cell_type": "code",
   "execution_count": 87,
   "metadata": {},
   "outputs": [
    {
     "name": "stdout",
     "output_type": "stream",
     "text": [
      "xT = 1.333 (Tables)\n",
      "xC = 10.667 (Chairs)\n",
      "Objective : £146.667\n"
     ]
    }
   ],
   "source": [
    "prob = p.LpProblem(\"Maximize_Profit\", p.LpMaximize)\n",
    "\n",
    "x = [p.LpVariable(f\"x{i}\", lowBound=0) for i in range(2)]\n",
    "xT, xC = x  \n",
    "\n",
    "prob += 30 * xT + 10 * xC, \"Objective\"\n",
    "\n",
    "prob += 6 * xT + 3 * xC <= 40, \"Total_Work_Time\"\n",
    "prob += xC >= 3 * xT, \"Customer_Demand\"\n",
    "prob += 0.25 * xC + xT <= 4, \"Storage_Space\"\n",
    "\n",
    "prob.solve()\n",
    "\n",
    "print(f\"xT = {p.value(xT):.3f} (Tables)\")\n",
    "print(f\"xC = {p.value(xC):.3f} (Chairs)\")\n",
    "print(f\"Objective : £{p.value(prob.objective):.3f}\")\n"
   ]
  },
  {
   "cell_type": "markdown",
   "metadata": {},
   "source": [
    "### Use scipy"
   ]
  },
  {
   "cell_type": "code",
   "execution_count": 88,
   "metadata": {},
   "outputs": [
    {
     "name": "stdout",
     "output_type": "stream",
     "text": [
      "xT = 1.333 (Tables)\n",
      "xC = 10.667 (Chairs)\n",
      "Objective : £146.667\n"
     ]
    }
   ],
   "source": [
    "c = [-30, -10]  \n",
    "A = [[6, 3],\n",
    "    [3, -1],\n",
    "    [4, 1]]\n",
    "\n",
    "b = [40, 0, 16]\n",
    "\n",
    "bnd = [(0, float(\"inf\")),\n",
    "       (0, float(\"inf\"))]\n",
    "\n",
    "res = linprog(c, A_ub=A, b_ub=b, bounds=bnd, method='highs')\n",
    "\n",
    "print(f\"xT = {res.x[0]:.3f} (Tables)\")\n",
    "print(f\"xC = {res.x[1]:.3f} (Chairs)\")\n",
    "print(f\"Objective : £{-res.fun:.3f}\")\n"
   ]
  }
 ],
 "metadata": {
  "kernelspec": {
   "display_name": "Python 3",
   "language": "python",
   "name": "python3"
  },
  "language_info": {
   "codemirror_mode": {
    "name": "ipython",
    "version": 3
   },
   "file_extension": ".py",
   "mimetype": "text/x-python",
   "name": "python",
   "nbconvert_exporter": "python",
   "pygments_lexer": "ipython3",
   "version": "3.10.8"
  }
 },
 "nbformat": 4,
 "nbformat_minor": 2
}
