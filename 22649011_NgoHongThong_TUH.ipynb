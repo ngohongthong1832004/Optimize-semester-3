{
 "cells": [
  {
   "cell_type": "markdown",
   "metadata": {},
   "source": [
    "### Ngô Hồng Thông 22649011"
   ]
  },
  {
   "cell_type": "markdown",
   "metadata": {},
   "source": [
    "Từ bộ dữ liệu lưu lượng hành khách sử dụng dịch vụ hàng không qua các năm tại [international airline passengers](https://raw.githubusercontent.com/phamdinhkhanh/LSTM/master/international-airline-passengers.csv) bạn hãy:\n",
    "\n",
    "1. Phân chia tập huấn luyện/kiểm tra sao cho tập kiểm tra bao gồm 12 tháng cuối cùng và tập huấn luyện gồm các tháng trước đó.\n",
    "2. Xây dựng phương trình dự báo lưu lượng hành khách theo phương trình hồi qui tuyến tính đơn biến trên tập huấn luyện và đánh giá MSE trên tập kiểm tra.\n",
    "3. Tạo thêm các biến $x^2, x^3$ và xây dựng phương trình hồi qui tuyến tính đa biến.\n",
    "4. Huấn luyên mô hình với Ridge Regression và Lasso Regression. Fine tunning hệ số $\\alpha$ của thành phần điều chuẩn."
   ]
  },
  {
   "cell_type": "code",
   "execution_count": 45,
   "metadata": {},
   "outputs": [],
   "source": [
    "import pandas as pd\n",
    "import numpy as np\n",
    "\n",
    "from sklearn.linear_model import LinearRegression\n",
    "from sklearn.model_selection import train_test_split\n",
    "from sklearn.linear_model import Ridge, Lasso\n",
    "from sklearn.metrics import mean_squared_error\n",
    "from sklearn.model_selection import GridSearchCV"
   ]
  },
  {
   "cell_type": "code",
   "execution_count": 46,
   "metadata": {},
   "outputs": [
    {
     "data": {
      "text/html": [
       "<div>\n",
       "<style scoped>\n",
       "    .dataframe tbody tr th:only-of-type {\n",
       "        vertical-align: middle;\n",
       "    }\n",
       "\n",
       "    .dataframe tbody tr th {\n",
       "        vertical-align: top;\n",
       "    }\n",
       "\n",
       "    .dataframe thead th {\n",
       "        text-align: right;\n",
       "    }\n",
       "</style>\n",
       "<table border=\"1\" class=\"dataframe\">\n",
       "  <thead>\n",
       "    <tr style=\"text-align: right;\">\n",
       "      <th></th>\n",
       "      <th>Month</th>\n",
       "      <th>International airline passengers: monthly totals in thousands. Jan 49 ? Dec 60</th>\n",
       "    </tr>\n",
       "  </thead>\n",
       "  <tbody>\n",
       "    <tr>\n",
       "      <th>0</th>\n",
       "      <td>1949-01</td>\n",
       "      <td>112</td>\n",
       "    </tr>\n",
       "    <tr>\n",
       "      <th>1</th>\n",
       "      <td>1949-02</td>\n",
       "      <td>118</td>\n",
       "    </tr>\n",
       "    <tr>\n",
       "      <th>2</th>\n",
       "      <td>1949-03</td>\n",
       "      <td>132</td>\n",
       "    </tr>\n",
       "    <tr>\n",
       "      <th>3</th>\n",
       "      <td>1949-04</td>\n",
       "      <td>129</td>\n",
       "    </tr>\n",
       "    <tr>\n",
       "      <th>4</th>\n",
       "      <td>1949-05</td>\n",
       "      <td>121</td>\n",
       "    </tr>\n",
       "  </tbody>\n",
       "</table>\n",
       "</div>"
      ],
      "text/plain": [
       "     Month  \\\n",
       "0  1949-01   \n",
       "1  1949-02   \n",
       "2  1949-03   \n",
       "3  1949-04   \n",
       "4  1949-05   \n",
       "\n",
       "   International airline passengers: monthly totals in thousands. Jan 49 ? Dec 60  \n",
       "0                                                112                               \n",
       "1                                                118                               \n",
       "2                                                132                               \n",
       "3                                                129                               \n",
       "4                                                121                               "
      ]
     },
     "execution_count": 46,
     "metadata": {},
     "output_type": "execute_result"
    }
   ],
   "source": [
    "url = 'https://raw.githubusercontent.com/phamdinhkhanh/LSTM/master/international-airline-passengers.csv'\n",
    "df = pd.read_csv(url)\n",
    "df.head()"
   ]
  },
  {
   "cell_type": "code",
   "execution_count": 47,
   "metadata": {},
   "outputs": [],
   "source": [
    "df = df.dropna()"
   ]
  },
  {
   "cell_type": "code",
   "execution_count": 48,
   "metadata": {},
   "outputs": [
    {
     "data": {
      "text/html": [
       "<div>\n",
       "<style scoped>\n",
       "    .dataframe tbody tr th:only-of-type {\n",
       "        vertical-align: middle;\n",
       "    }\n",
       "\n",
       "    .dataframe tbody tr th {\n",
       "        vertical-align: top;\n",
       "    }\n",
       "\n",
       "    .dataframe thead th {\n",
       "        text-align: right;\n",
       "    }\n",
       "</style>\n",
       "<table border=\"1\" class=\"dataframe\">\n",
       "  <thead>\n",
       "    <tr style=\"text-align: right;\">\n",
       "      <th></th>\n",
       "      <th>International airline passengers: monthly totals in thousands. Jan 49 ? Dec 60</th>\n",
       "    </tr>\n",
       "  </thead>\n",
       "  <tbody>\n",
       "    <tr>\n",
       "      <th>count</th>\n",
       "      <td>144.000000</td>\n",
       "    </tr>\n",
       "    <tr>\n",
       "      <th>mean</th>\n",
       "      <td>280.298611</td>\n",
       "    </tr>\n",
       "    <tr>\n",
       "      <th>std</th>\n",
       "      <td>119.966317</td>\n",
       "    </tr>\n",
       "    <tr>\n",
       "      <th>min</th>\n",
       "      <td>104.000000</td>\n",
       "    </tr>\n",
       "    <tr>\n",
       "      <th>25%</th>\n",
       "      <td>180.000000</td>\n",
       "    </tr>\n",
       "    <tr>\n",
       "      <th>50%</th>\n",
       "      <td>265.500000</td>\n",
       "    </tr>\n",
       "    <tr>\n",
       "      <th>75%</th>\n",
       "      <td>360.500000</td>\n",
       "    </tr>\n",
       "    <tr>\n",
       "      <th>max</th>\n",
       "      <td>622.000000</td>\n",
       "    </tr>\n",
       "  </tbody>\n",
       "</table>\n",
       "</div>"
      ],
      "text/plain": [
       "       International airline passengers: monthly totals in thousands. Jan 49 ? Dec 60\n",
       "count                                         144.000000                             \n",
       "mean                                          280.298611                             \n",
       "std                                           119.966317                             \n",
       "min                                           104.000000                             \n",
       "25%                                           180.000000                             \n",
       "50%                                           265.500000                             \n",
       "75%                                           360.500000                             \n",
       "max                                           622.000000                             "
      ]
     },
     "execution_count": 48,
     "metadata": {},
     "output_type": "execute_result"
    }
   ],
   "source": [
    "df.describe()"
   ]
  },
  {
   "cell_type": "code",
   "execution_count": 49,
   "metadata": {},
   "outputs": [],
   "source": [
    "df.columns = ['date', 'visitor']\n"
   ]
  },
  {
   "cell_type": "code",
   "execution_count": 50,
   "metadata": {},
   "outputs": [
    {
     "data": {
      "text/plain": [
       "(        date  visitor\n",
       " 132  1960-01      417\n",
       " 133  1960-02      391\n",
       " 134  1960-03      419\n",
       " 135  1960-04      461\n",
       " 136  1960-05      472\n",
       " 137  1960-06      535\n",
       " 138  1960-07      622\n",
       " 139  1960-08      606\n",
       " 140  1960-09      508\n",
       " 141  1960-10      461\n",
       " 142  1960-11      390\n",
       " 143  1960-12      432,\n",
       "         date  visitor\n",
       " 0    1949-01      112\n",
       " 1    1949-02      118\n",
       " 2    1949-03      132\n",
       " 3    1949-04      129\n",
       " 4    1949-05      121\n",
       " ..       ...      ...\n",
       " 127  1959-08      559\n",
       " 128  1959-09      463\n",
       " 129  1959-10      407\n",
       " 130  1959-11      362\n",
       " 131  1959-12      405\n",
       " \n",
       " [132 rows x 2 columns])"
      ]
     },
     "execution_count": 50,
     "metadata": {},
     "output_type": "execute_result"
    }
   ],
   "source": [
    "#1.\n",
    "test_df = df[-12:]\n",
    "train_df = df[:-12]\n",
    "\n",
    "test_df, train_df"
   ]
  },
  {
   "cell_type": "code",
   "execution_count": 51,
   "metadata": {},
   "outputs": [
    {
     "name": "stdout",
     "output_type": "stream",
     "text": [
      "MSE = 6213.02\n",
      "Phương trình hồi quy: y = 2.56x + 92.01\n"
     ]
    }
   ],
   "source": [
    "#2.\n",
    "\n",
    "# Hàm tính MSE\n",
    "def MSE(y_test, y_pred):\n",
    "    return np.mean((np.array(y_test) - np.array(y_pred)) ** 2)\n",
    "\n",
    "# Nội suy giá trị bị thiếu trong cột 'visitor'\n",
    "df['visitor'] = df['visitor'].interpolate()\n",
    "\n",
    "# Thêm cột 'date_index' để làm biến độc lập\n",
    "df['date_index'] = np.arange(1, len(df) + 1)\n",
    "\n",
    "# Phân chia tập huấn luyện và tập kiểm tra\n",
    "train_df = df.iloc[:-12]\n",
    "test_df = df.iloc[-12:]\n",
    "\n",
    "# Lấy biến đầu vào (date_index) và biến dự báo (visitor)\n",
    "X_train = train_df[['date_index']]\n",
    "y_train = train_df['visitor']\n",
    "\n",
    "X_test = test_df[['date_index']]\n",
    "y_test = test_df['visitor']\n",
    "\n",
    "# Xây dựng mô hình hồi quy tuyến tính\n",
    "lin_reg = LinearRegression()\n",
    "lin_reg.fit(X_train, y_train)\n",
    "\n",
    "# Dự đoán trên tập kiểm tra\n",
    "y_pred = lin_reg.predict(X_test)\n",
    "\n",
    "# Tính toán MSE trên tập kiểm tra\n",
    "mse = MSE(y_test, y_pred)\n",
    "\n",
    "# Phương trình hồi quy\n",
    "coef = lin_reg.coef_[0]\n",
    "intercept = lin_reg.intercept_\n",
    "\n",
    "print(f'MSE = {mse:.2f}')\n",
    "print(f'Phương trình hồi quy: y = {coef:.2f}x + {intercept:.2f}')\n"
   ]
  },
  {
   "cell_type": "code",
   "execution_count": 52,
   "metadata": {},
   "outputs": [],
   "source": [
    "#3. \n",
    "df['date_index_2'] = df['date_index'] ** 2\n",
    "df['date_index_3'] = df['date_index'] ** 3"
   ]
  },
  {
   "cell_type": "code",
   "execution_count": 53,
   "metadata": {},
   "outputs": [
    {
     "name": "stdout",
     "output_type": "stream",
     "text": [
      "MSE =  5663.456143470688\n",
      "Phương trình hồi quy: y = 0.94x + 0.02x^2 + (-0.00)x^3 + 120.00\n"
     ]
    }
   ],
   "source": [
    "# Lấy biến đầu vào (date_index, date_index^2, date_index^3) và biến dự báo (visitor)\n",
    "\n",
    "#Phân chia train/test\n",
    "test_df = df[-12:]\n",
    "train_df = df[:-12]\n",
    "\n",
    "X_train = train_df[['date_index', 'date_index_2', 'date_index_3']]\n",
    "y_train = train_df['visitor']\n",
    "\n",
    "X_test = test_df[['date_index', 'date_index_2', 'date_index_3']]\n",
    "y_test = test_df['visitor']\n",
    "\n",
    "# Xây dựng mô hình hồi quy tuyến tính đa biến\n",
    "lin_reg = LinearRegression()\n",
    "lin_reg.fit(X_train, y_train)\n",
    "\n",
    "# Dự đoán trên tập kiểm tra\n",
    "y_pred = lin_reg.predict(X_test)\n",
    "\n",
    "# Tính toán MSE trên tập kiểm tra\n",
    "mse = MSE(y_test, y_pred)\n",
    "\n",
    "# Phương trình hồi quy đa biến\n",
    "coef = lin_reg.coef_\n",
    "intercept = lin_reg.intercept_\n",
    "\n",
    "print('MSE = ', mse)\n",
    "print(f'Phương trình hồi quy: y = {coef[0]:.2f}x + {coef[1]:.2f}x^2 + ({coef[2]:.2f})x^3 + {intercept:.2f}')\n"
   ]
  },
  {
   "cell_type": "code",
   "execution_count": 54,
   "metadata": {},
   "outputs": [
    {
     "name": "stdout",
     "output_type": "stream",
     "text": [
      "Ridge Regression - MSE: 5683.70, Best alpha: 100\n"
     ]
    }
   ],
   "source": [
    "# 4.\n",
    "\n",
    "# Ridge Regression với fine-tune alpha\n",
    "ridge = Ridge()\n",
    "alpha_values = {'alpha': [0.01, 0.01, 0.1, 1, 10, 100]}\n",
    "ridge_grid = GridSearchCV(ridge, alpha_values, cv=5, scoring='neg_mean_squared_error')\n",
    "ridge_grid.fit(X_train, y_train)\n",
    "\n",
    "# Dự đoán và tính MSE cho Ridge\n",
    "y_pred_ridge = ridge_grid.predict(X_test)\n",
    "mse_ridge = mean_squared_error(y_test, y_pred_ridge)\n",
    "best_alpha_ridge = ridge_grid.best_params_['alpha']\n",
    "\n",
    "# In kết quả Ridge\n",
    "print(f'Ridge Regression - MSE: {mse_ridge:.2f}, Best alpha: {best_alpha_ridge}')"
   ]
  },
  {
   "cell_type": "code",
   "execution_count": 55,
   "metadata": {},
   "outputs": [
    {
     "name": "stdout",
     "output_type": "stream",
     "text": [
      "Lasso Regression - MSE: 6152.09, Best alpha: 100\n"
     ]
    },
    {
     "name": "stderr",
     "output_type": "stream",
     "text": [
      "c:\\Users\\thong\\AppData\\Local\\Programs\\Python\\Python310\\lib\\site-packages\\sklearn\\linear_model\\_coordinate_descent.py:697: ConvergenceWarning: Objective did not converge. You might want to increase the number of iterations, check the scale of the features or consider increasing regularisation. Duality gap: 1.057e+05, tolerance: 9.360e+01\n",
      "  model = cd_fast.enet_coordinate_descent(\n",
      "c:\\Users\\thong\\AppData\\Local\\Programs\\Python\\Python310\\lib\\site-packages\\sklearn\\linear_model\\_coordinate_descent.py:697: ConvergenceWarning: Objective did not converge. You might want to increase the number of iterations, check the scale of the features or consider increasing regularisation. Duality gap: 1.032e+05, tolerance: 1.316e+02\n",
      "  model = cd_fast.enet_coordinate_descent(\n",
      "c:\\Users\\thong\\AppData\\Local\\Programs\\Python\\Python310\\lib\\site-packages\\sklearn\\linear_model\\_coordinate_descent.py:697: ConvergenceWarning: Objective did not converge. You might want to increase the number of iterations, check the scale of the features or consider increasing regularisation. Duality gap: 9.119e+04, tolerance: 1.433e+02\n",
      "  model = cd_fast.enet_coordinate_descent(\n",
      "c:\\Users\\thong\\AppData\\Local\\Programs\\Python\\Python310\\lib\\site-packages\\sklearn\\linear_model\\_coordinate_descent.py:697: ConvergenceWarning: Objective did not converge. You might want to increase the number of iterations, check the scale of the features or consider increasing regularisation. Duality gap: 7.689e+04, tolerance: 1.207e+02\n",
      "  model = cd_fast.enet_coordinate_descent(\n",
      "c:\\Users\\thong\\AppData\\Local\\Programs\\Python\\Python310\\lib\\site-packages\\sklearn\\linear_model\\_coordinate_descent.py:697: ConvergenceWarning: Objective did not converge. You might want to increase the number of iterations, check the scale of the features or consider increasing regularisation. Duality gap: 5.369e+04, tolerance: 7.667e+01\n",
      "  model = cd_fast.enet_coordinate_descent(\n",
      "c:\\Users\\thong\\AppData\\Local\\Programs\\Python\\Python310\\lib\\site-packages\\sklearn\\linear_model\\_coordinate_descent.py:697: ConvergenceWarning: Objective did not converge. You might want to increase the number of iterations, check the scale of the features or consider increasing regularisation. Duality gap: 1.057e+05, tolerance: 9.360e+01\n",
      "  model = cd_fast.enet_coordinate_descent(\n",
      "c:\\Users\\thong\\AppData\\Local\\Programs\\Python\\Python310\\lib\\site-packages\\sklearn\\linear_model\\_coordinate_descent.py:697: ConvergenceWarning: Objective did not converge. You might want to increase the number of iterations, check the scale of the features or consider increasing regularisation. Duality gap: 1.032e+05, tolerance: 1.316e+02\n",
      "  model = cd_fast.enet_coordinate_descent(\n",
      "c:\\Users\\thong\\AppData\\Local\\Programs\\Python\\Python310\\lib\\site-packages\\sklearn\\linear_model\\_coordinate_descent.py:697: ConvergenceWarning: Objective did not converge. You might want to increase the number of iterations, check the scale of the features or consider increasing regularisation. Duality gap: 9.119e+04, tolerance: 1.433e+02\n",
      "  model = cd_fast.enet_coordinate_descent(\n",
      "c:\\Users\\thong\\AppData\\Local\\Programs\\Python\\Python310\\lib\\site-packages\\sklearn\\linear_model\\_coordinate_descent.py:697: ConvergenceWarning: Objective did not converge. You might want to increase the number of iterations, check the scale of the features or consider increasing regularisation. Duality gap: 7.689e+04, tolerance: 1.207e+02\n",
      "  model = cd_fast.enet_coordinate_descent(\n",
      "c:\\Users\\thong\\AppData\\Local\\Programs\\Python\\Python310\\lib\\site-packages\\sklearn\\linear_model\\_coordinate_descent.py:697: ConvergenceWarning: Objective did not converge. You might want to increase the number of iterations, check the scale of the features or consider increasing regularisation. Duality gap: 5.369e+04, tolerance: 7.667e+01\n",
      "  model = cd_fast.enet_coordinate_descent(\n",
      "c:\\Users\\thong\\AppData\\Local\\Programs\\Python\\Python310\\lib\\site-packages\\sklearn\\linear_model\\_coordinate_descent.py:697: ConvergenceWarning: Objective did not converge. You might want to increase the number of iterations, check the scale of the features or consider increasing regularisation. Duality gap: 1.056e+05, tolerance: 9.360e+01\n",
      "  model = cd_fast.enet_coordinate_descent(\n",
      "c:\\Users\\thong\\AppData\\Local\\Programs\\Python\\Python310\\lib\\site-packages\\sklearn\\linear_model\\_coordinate_descent.py:697: ConvergenceWarning: Objective did not converge. You might want to increase the number of iterations, check the scale of the features or consider increasing regularisation. Duality gap: 1.031e+05, tolerance: 1.316e+02\n",
      "  model = cd_fast.enet_coordinate_descent(\n",
      "c:\\Users\\thong\\AppData\\Local\\Programs\\Python\\Python310\\lib\\site-packages\\sklearn\\linear_model\\_coordinate_descent.py:697: ConvergenceWarning: Objective did not converge. You might want to increase the number of iterations, check the scale of the features or consider increasing regularisation. Duality gap: 9.099e+04, tolerance: 1.433e+02\n",
      "  model = cd_fast.enet_coordinate_descent(\n",
      "c:\\Users\\thong\\AppData\\Local\\Programs\\Python\\Python310\\lib\\site-packages\\sklearn\\linear_model\\_coordinate_descent.py:697: ConvergenceWarning: Objective did not converge. You might want to increase the number of iterations, check the scale of the features or consider increasing regularisation. Duality gap: 7.615e+04, tolerance: 1.207e+02\n",
      "  model = cd_fast.enet_coordinate_descent(\n",
      "c:\\Users\\thong\\AppData\\Local\\Programs\\Python\\Python310\\lib\\site-packages\\sklearn\\linear_model\\_coordinate_descent.py:697: ConvergenceWarning: Objective did not converge. You might want to increase the number of iterations, check the scale of the features or consider increasing regularisation. Duality gap: 5.349e+04, tolerance: 7.667e+01\n",
      "  model = cd_fast.enet_coordinate_descent(\n",
      "c:\\Users\\thong\\AppData\\Local\\Programs\\Python\\Python310\\lib\\site-packages\\sklearn\\linear_model\\_coordinate_descent.py:697: ConvergenceWarning: Objective did not converge. You might want to increase the number of iterations, check the scale of the features or consider increasing regularisation. Duality gap: 1.048e+05, tolerance: 9.360e+01\n",
      "  model = cd_fast.enet_coordinate_descent(\n",
      "c:\\Users\\thong\\AppData\\Local\\Programs\\Python\\Python310\\lib\\site-packages\\sklearn\\linear_model\\_coordinate_descent.py:697: ConvergenceWarning: Objective did not converge. You might want to increase the number of iterations, check the scale of the features or consider increasing regularisation. Duality gap: 1.021e+05, tolerance: 1.316e+02\n",
      "  model = cd_fast.enet_coordinate_descent(\n",
      "c:\\Users\\thong\\AppData\\Local\\Programs\\Python\\Python310\\lib\\site-packages\\sklearn\\linear_model\\_coordinate_descent.py:697: ConvergenceWarning: Objective did not converge. You might want to increase the number of iterations, check the scale of the features or consider increasing regularisation. Duality gap: 8.908e+04, tolerance: 1.433e+02\n",
      "  model = cd_fast.enet_coordinate_descent(\n",
      "c:\\Users\\thong\\AppData\\Local\\Programs\\Python\\Python310\\lib\\site-packages\\sklearn\\linear_model\\_coordinate_descent.py:697: ConvergenceWarning: Objective did not converge. You might want to increase the number of iterations, check the scale of the features or consider increasing regularisation. Duality gap: 6.294e+04, tolerance: 1.207e+02\n",
      "  model = cd_fast.enet_coordinate_descent(\n",
      "c:\\Users\\thong\\AppData\\Local\\Programs\\Python\\Python310\\lib\\site-packages\\sklearn\\linear_model\\_coordinate_descent.py:697: ConvergenceWarning: Objective did not converge. You might want to increase the number of iterations, check the scale of the features or consider increasing regularisation. Duality gap: 5.144e+04, tolerance: 7.667e+01\n",
      "  model = cd_fast.enet_coordinate_descent(\n",
      "c:\\Users\\thong\\AppData\\Local\\Programs\\Python\\Python310\\lib\\site-packages\\sklearn\\linear_model\\_coordinate_descent.py:697: ConvergenceWarning: Objective did not converge. You might want to increase the number of iterations, check the scale of the features or consider increasing regularisation. Duality gap: 7.883e+04, tolerance: 1.433e+02\n",
      "  model = cd_fast.enet_coordinate_descent(\n",
      "c:\\Users\\thong\\AppData\\Local\\Programs\\Python\\Python310\\lib\\site-packages\\sklearn\\linear_model\\_coordinate_descent.py:697: ConvergenceWarning: Objective did not converge. You might want to increase the number of iterations, check the scale of the features or consider increasing regularisation. Duality gap: 5.749e+04, tolerance: 1.207e+02\n",
      "  model = cd_fast.enet_coordinate_descent(\n"
     ]
    }
   ],
   "source": [
    "# Lasso Regression với fine-tune alpha\n",
    "lasso = Lasso()\n",
    "lasso_grid = GridSearchCV(lasso, alpha_values, cv=5, scoring='neg_mean_squared_error')\n",
    "lasso_grid.fit(X_train, y_train)\n",
    "\n",
    "# Dự đoán và tính MSE cho Lasso\n",
    "y_pred_lasso = lasso_grid.predict(X_test)\n",
    "mse_lasso = mean_squared_error(y_test, y_pred_lasso)\n",
    "best_alpha_lasso = lasso_grid.best_params_['alpha']\n",
    "\n",
    "# In kết quả Lasso\n",
    "print(f'Lasso Regression - MSE: {mse_lasso:.2f}, Best alpha: {best_alpha_lasso}')"
   ]
  }
 ],
 "metadata": {
  "kernelspec": {
   "display_name": "Python 3",
   "language": "python",
   "name": "python3"
  },
  "language_info": {
   "codemirror_mode": {
    "name": "ipython",
    "version": 3
   },
   "file_extension": ".py",
   "mimetype": "text/x-python",
   "name": "python",
   "nbconvert_exporter": "python",
   "pygments_lexer": "ipython3",
   "version": "3.10.11"
  }
 },
 "nbformat": 4,
 "nbformat_minor": 2
}
