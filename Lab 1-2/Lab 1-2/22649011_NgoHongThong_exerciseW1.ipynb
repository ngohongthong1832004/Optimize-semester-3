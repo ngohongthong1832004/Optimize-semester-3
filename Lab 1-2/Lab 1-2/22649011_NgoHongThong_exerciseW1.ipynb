{
 "cells": [
  {
   "cell_type": "markdown",
   "metadata": {},
   "source": [
    "Ngô Hồng Thông"
   ]
  },
  {
   "cell_type": "code",
   "execution_count": 94,
   "metadata": {},
   "outputs": [],
   "source": [
    "# !pip install pulp"
   ]
  },
  {
   "cell_type": "markdown",
   "metadata": {},
   "source": [
    "## Bài 1 Linear programming example 1997 UG exam "
   ]
  },
  {
   "cell_type": "code",
   "execution_count": 95,
   "metadata": {},
   "outputs": [
    {
     "name": "stdout",
     "output_type": "stream",
     "text": [
      "45.000000000157975\n",
      "6.249999999509994\n",
      "1.2499999996679705\n"
     ]
    }
   ],
   "source": [
    "import cvxpy as cp\n",
    "\n",
    "x = cp.Variable()\n",
    "y = cp.Variable()\n",
    "\n",
    "objective = cp.Maximize(x + y - 50)\n",
    "constraints = [\n",
    "    50*x + 24*y <= 40*60,\n",
    "    30*x + 33*y <= 35*60,\n",
    "    x >= 75 - 30,\n",
    "    y >= 95 - 90\n",
    "]\n",
    "problem = cp.Problem(objective, constraints)\n",
    "problem.solve()\n",
    "\n",
    "print(x.value)\n",
    "print(y.value)\n",
    "print(objective.value)\n",
    "\n"
   ]
  },
  {
   "cell_type": "code",
   "execution_count": 96,
   "metadata": {},
   "outputs": [
    {
     "name": "stdout",
     "output_type": "stream",
     "text": [
      "45.0\n",
      "6.25\n",
      "1.25\n"
     ]
    }
   ],
   "source": [
    "from pulp import LpMaximize, LpProblem, LpVariable, lpSum, value\n",
    "\n",
    "problem = LpProblem(\"Maximize_Stock\", LpMaximize)\n",
    "\n",
    "x = LpVariable(\"x\", lowBound=45)  # x >= 45 ( 75 - 30)\n",
    "y = LpVariable(\"y\", lowBound=5)   # y >= 5 ( 95 - 90)\n",
    "\n",
    "problem += x + y - 50\n",
    "\n",
    "\n",
    "problem += 50 * x + 24 * y <= 40 * 60\n",
    "problem += 30 * x + 33 * y <= 35 * 60\n",
    "\n",
    "\n",
    "problem.solve()\n",
    "\n",
    "print(value(x))\n",
    "print(value(y))\n",
    "print(value(x) + value(y) - 50)"
   ]
  },
  {
   "cell_type": "code",
   "execution_count": 97,
   "metadata": {},
   "outputs": [
    {
     "name": "stdout",
     "output_type": "stream",
     "text": [
      "45.0\n",
      "6.25\n",
      "101.25\n"
     ]
    }
   ],
   "source": [
    "from scipy.optimize import linprog\n",
    "\n",
    "c = [-1, -1] \n",
    "offset = 50  \n",
    "\n",
    "A = [\n",
    "    [50, 24], \n",
    "    [30, 33], \n",
    "    [-1, 0],  \n",
    "    [0, -1]   \n",
    "]\n",
    "\n",
    "b = [2400, 2100, -45, -5]\n",
    "\n",
    "result = linprog(c, A_ub=A, b_ub=b, method='highs')\n",
    "\n",
    "print(result.x[0])\n",
    "print(result.x[1])\n",
    "print(-result.fun + offset)"
   ]
  },
  {
   "cell_type": "markdown",
   "metadata": {},
   "source": [
    "## Bìa 2 Linear programming example 1995 UG exam"
   ]
  },
  {
   "cell_type": "code",
   "execution_count": 98,
   "metadata": {},
   "outputs": [
    {
     "data": {
      "text/plain": [
       "37"
      ]
     },
     "execution_count": 98,
     "metadata": {},
     "output_type": "execute_result"
    }
   ],
   "source": [
    "arr1 = [23, 27, 34, 40]\n",
    "alpha = 0.7\n",
    "\n",
    "M1 = arr1[0]\n",
    "M2 = alpha * arr1[1] + (1 - alpha) * M1\n",
    "M3 = alpha * arr1[2] + (1 - alpha) * M2\n",
    "M4 = alpha * arr1[3] + (1 - alpha) * M3\n",
    "\n",
    "rs = round(M4)\n",
    "rs\n"
   ]
  },
  {
   "cell_type": "code",
   "execution_count": 99,
   "metadata": {},
   "outputs": [
    {
     "data": {
      "text/plain": [
       "14"
      ]
     },
     "execution_count": 99,
     "metadata": {},
     "output_type": "execute_result"
    }
   ],
   "source": [
    "arr2 = [11, 13, 15, 14]\n",
    "\n",
    "M1 = arr2[0]\n",
    "M2 = alpha * arr2[1] + (1 - alpha) * M1\n",
    "M3 = alpha * arr2[2] + (1 - alpha) * M2\n",
    "M4 = alpha * arr2[3] + (1 - alpha) * M3\n",
    "\n",
    "rs = round(M4)\n",
    "rs"
   ]
  },
  {
   "cell_type": "code",
   "execution_count": 100,
   "metadata": {},
   "outputs": [
    {
     "name": "stdout",
     "output_type": "stream",
     "text": [
      "35.99999998685703\n",
      "8.801073946719746e-09\n",
      "342.99999987314675\n"
     ]
    }
   ],
   "source": [
    "import cvxpy as cp\n",
    "\n",
    "x1 = cp.Variable(name=\"x1\", nonneg=True)\n",
    "x2 = cp.Variable(name=\"x2\", nonneg=True)\n",
    "\n",
    "objective = cp.Maximize(13*x1 + 5*x2 - 125)\n",
    "\n",
    "constraint = [\n",
    "    15*x1 + 7*x2 <= 1200, \n",
    "    25*x1 + 45*x2 <= 900,\n",
    "    x1 <= 37,\n",
    "    x2 <= 14 \n",
    "]\n",
    "\n",
    "problem = cp.Problem(objective, constraint)\n",
    "problem.solve()\n",
    "\n",
    "print( x1.value)\n",
    "print(x2.value)\n",
    "print(objective.value)"
   ]
  },
  {
   "cell_type": "code",
   "execution_count": 101,
   "metadata": {},
   "outputs": [
    {
     "name": "stdout",
     "output_type": "stream",
     "text": [
      "36.0\n",
      "0.0\n",
      "343.0\n"
     ]
    }
   ],
   "source": [
    "from scipy.optimize import linprog\n",
    "c = [-13, -5] \n",
    "A = [\n",
    "    [15, 7],  \n",
    "    [25, 45], \n",
    "]\n",
    "\n",
    "b = [1200, 900]\n",
    "\n",
    "x1_bounds = (0, 37)\n",
    "x2_bounds = (0, 14)\n",
    "\n",
    "result = linprog(c, A_ub=A, b_ub=b, bounds=[x1_bounds, x2_bounds], method='highs')\n",
    "\n",
    "if result.success:\n",
    "    x1, x2 = result.x\n",
    "    print(x1)\n",
    "    print(x2)\n",
    "    objective_value = -(13 * x1 + 5 * x2 - 125)\n",
    "    print(-objective_value)\n",
    "else:\n",
    "    print(\"Optimization failed:\", result.message)\n"
   ]
  },
  {
   "cell_type": "code",
   "execution_count": 102,
   "metadata": {},
   "outputs": [
    {
     "name": "stdout",
     "output_type": "stream",
     "text": [
      "36.0\n",
      "0.0\n",
      "343.0\n"
     ]
    }
   ],
   "source": [
    "import pulp\n",
    "\n",
    "prob = pulp.LpProblem(\"Maximize_Profit\", pulp.LpMaximize)\n",
    "\n",
    "x1 = pulp.LpVariable(\"x1\", lowBound=0)  # x1 >= 0\n",
    "x2 = pulp.LpVariable(\"x2\", lowBound=0)  # x2 >= 0\n",
    "\n",
    "prob += 13 * x1 + 5 * x2 - 125, \"Objective\"\n",
    "\n",
    "prob += 15 * x1 + 7 * x2 <= 1200\n",
    "prob += 25 * x1 + 45 * x2 <= 900\n",
    "prob += x1 <= 37\n",
    "prob += x2 <= 14\n",
    "\n",
    "prob.solve()\n",
    "\n",
    "print(pulp.value(x1))\n",
    "print(pulp.value(x2))\n",
    "print(pulp.value(prob.objective))\n"
   ]
  },
  {
   "cell_type": "markdown",
   "metadata": {},
   "source": [
    "## bài 3 :Linear programming example 1994 UG exam"
   ]
  },
  {
   "cell_type": "code",
   "execution_count": 103,
   "metadata": {},
   "outputs": [
    {
     "name": "stdout",
     "output_type": "stream",
     "text": [
      "10.000000063161247\n",
      "65.51724133568688\n",
      "1866.381827542082\n"
     ]
    }
   ],
   "source": [
    "import cvxpy as cp\n",
    "\n",
    "x = cp.Variable()\n",
    "y = cp.Variable()\n",
    "\n",
    "objective = cp.Maximize(17.1667*x + 25.8667*y)\n",
    "\n",
    "constraint = [\n",
    "    13*x + 19*y <= 2400,\n",
    "    20*x + 29*y <= 2100,\n",
    "    x >= 10,\n",
    "    x >= 0,\n",
    "    y >= 0\n",
    "]\n",
    "\n",
    "problem = cp.Problem(objective, constraint)\n",
    "problem.solve()\n",
    "\n",
    "print(x.value)\n",
    "print(y.value)\n",
    "print(objective.value)"
   ]
  },
  {
   "cell_type": "code",
   "execution_count": 104,
   "metadata": {},
   "outputs": [
    {
     "name": "stdout",
     "output_type": "stream",
     "text": [
      "0.0\n",
      "72.41379310344827\n",
      "1873.1058620689655\n"
     ]
    }
   ],
   "source": [
    "from scipy.optimize import linprog\n",
    "\n",
    "c = [-17.1667, -25.8667]\n",
    "\n",
    "A = [\n",
    "    [13, 19],\n",
    "    [20, 29]\n",
    "]\n",
    "\n",
    "b = [2400, 2100]\n",
    "\n",
    "x_bounds = (0, None) \n",
    "y_bounds = (0, None) \n",
    "\n",
    "result = linprog(c, A_ub=A, b_ub=b, bounds=[x_bounds, y_bounds], method='highs')\n",
    "\n",
    "print(result.x[0])\n",
    "print(result.x[1])\n",
    "print(-result.fun) \n"
   ]
  },
  {
   "cell_type": "code",
   "execution_count": 105,
   "metadata": {},
   "outputs": [
    {
     "name": "stdout",
     "output_type": "stream",
     "text": [
      "10.0\n",
      "65.517241\n",
      "1866.3818177747\n"
     ]
    }
   ],
   "source": [
    "import pulp\n",
    "\n",
    "prob = pulp.LpProblem(\"Maximize_Profit\", pulp.LpMaximize)\n",
    "\n",
    "x = pulp.LpVariable(\"x\", lowBound=0) \n",
    "y = pulp.LpVariable(\"y\", lowBound=0) \n",
    "\n",
    "prob += 17.1667 * x + 25.8667 * y\n",
    "\n",
    "prob += 13 * x + 19 * y <= 2400\n",
    "prob += 20 * x + 29 * y <= 2100\n",
    "prob += x >= 10\n",
    "\n",
    "prob.solve()\n",
    "\n",
    "print(pulp.value(x))\n",
    "print(pulp.value(y))\n",
    "print(pulp.value(prob.objective))\n"
   ]
  },
  {
   "cell_type": "markdown",
   "metadata": {},
   "source": [
    "## Bài 4: Linear programming example 1992 UG exam"
   ]
  },
  {
   "cell_type": "code",
   "execution_count": 106,
   "metadata": {},
   "outputs": [
    {
     "name": "stdout",
     "output_type": "stream",
     "text": [
      "81.81818095601999\n",
      "32.72727303804122\n",
      "409.09090805826605\n",
      "------------------------------------\n",
      "163.63636191194763\n",
      "65.45454607610337\n",
      "818.1818161163598\n"
     ]
    }
   ],
   "source": [
    "import cvxpy as cp\n",
    "\n",
    "x = cp.Variable()  \n",
    "y = cp.Variable()  \n",
    "\n",
    "objective = cp.Maximize(3 * x + 5 * y)\n",
    "constraint = [\n",
    "    12*x + 25*y <= 30 * 60, \n",
    "    y - 0.4*x >= 0,        \n",
    "    x >= 0,\n",
    "    y >= 0\n",
    "]\n",
    "\n",
    "rs = cp.Problem(objective, constraint)\n",
    "rs.solve()\n",
    "\n",
    "print(x.value)\n",
    "print(y.value)\n",
    "print(objective.value)\n",
    "print(\"------------------------------------\")\n",
    "\n",
    "constraint2 = [\n",
    "    12*x + 25*y <= 3600,\n",
    "    y - 0.4*x >= 0,       \n",
    "    x >= 0,\n",
    "    y >= 0\n",
    "]\n",
    "\n",
    "rs2 = cp.Problem(objective, constraint2)\n",
    "rs2.solve()\n",
    "\n",
    "print(x.value)\n",
    "print(y.value)\n",
    "print(objective.value)"
   ]
  },
  {
   "cell_type": "code",
   "execution_count": 107,
   "metadata": {},
   "outputs": [
    {
     "name": "stdout",
     "output_type": "stream",
     "text": [
      "150.0\n",
      "0.0\n",
      "450.0\n",
      "------------------------------------\n"
     ]
    }
   ],
   "source": [
    "from scipy.optimize import linprog\n",
    "\n",
    "c = [-3, -5]\n",
    "\n",
    "A = [\n",
    "    [12, 25],   \n",
    "    [-0.4, 1]   \n",
    "]\n",
    "\n",
    "b = [1800, 0]\n",
    "\n",
    "x_bounds = (0, None) \n",
    "y_bounds = (0, None) \n",
    "\n",
    "result = linprog(c, A_ub=A, b_ub=b, bounds=[x_bounds, y_bounds], method='highs')\n",
    "\n",
    "print(result.x[0])\n",
    "print(result.x[1])\n",
    "print(-result.fun) \n",
    "print(\"------------------------------------\")\n"
   ]
  },
  {
   "cell_type": "code",
   "execution_count": 108,
   "metadata": {},
   "outputs": [
    {
     "name": "stdout",
     "output_type": "stream",
     "text": [
      "300.0\n",
      "0.0\n",
      "900.0\n"
     ]
    }
   ],
   "source": [
    "from scipy.optimize import linprog\n",
    "\n",
    "c = [-3, -5]\n",
    "\n",
    "A = [\n",
    "    [12, 25],   \n",
    "    [-0.4, 1]   \n",
    "]\n",
    "\n",
    "b = [3600, 0]\n",
    "\n",
    "x_bounds = (0, None) \n",
    "y_bounds = (0, None) \n",
    "\n",
    "result = linprog(c, A_ub=A, b_ub=b, bounds=[x_bounds, y_bounds], method='highs')\n",
    "\n",
    "print(result.x[0])\n",
    "print(result.x[1])\n",
    "print(-result.fun) \n"
   ]
  },
  {
   "cell_type": "markdown",
   "metadata": {},
   "source": [
    "## Bài 5 : Linear programming example 1988 UG exam"
   ]
  },
  {
   "cell_type": "code",
   "execution_count": 109,
   "metadata": {},
   "outputs": [
    {
     "name": "stdout",
     "output_type": "stream",
     "text": [
      "7.999999994517987\n",
      "3.000000004334483\n",
      "10.99999999885247\n",
      "112.99999999285917\n"
     ]
    }
   ],
   "source": [
    "import cvxpy as cp\n",
    "\n",
    "a = cp.Variable()\n",
    "b = cp.Variable()\n",
    "c = cp.Variable()\n",
    "\n",
    "objective = cp.Minimize(4*a + 5*b + 6*c)\n",
    "\n",
    "constraint = [\n",
    "    a + b >= 11,\n",
    "    a - b <= 5,\n",
    "    c - a - b == 0,\n",
    "    7*a + 12*b >= 35,\n",
    "    a >= 0,\n",
    "    b >= 0,\n",
    "    c >= 0\n",
    "]\n",
    "\n",
    "rs = cp.Problem(objective, constraint)\n",
    "rs.solve()\n",
    "\n",
    "print(a.value)\n",
    "print(b.value)\n",
    "print(c.value)\n",
    "print(objective.value)\n"
   ]
  },
  {
   "cell_type": "code",
   "execution_count": 110,
   "metadata": {},
   "outputs": [
    {
     "name": "stdout",
     "output_type": "stream",
     "text": [
      "8.0\n",
      "3.0\n",
      "11.0\n",
      "113.0\n"
     ]
    }
   ],
   "source": [
    "import pulp as p\n",
    "\n",
    "prob = p.LpProblem(\"Minimize_Objective\", p.LpMinimize)\n",
    "\n",
    "a = p.LpVariable(\"a\", lowBound=0)\n",
    "b = p.LpVariable(\"b\", lowBound=0)\n",
    "\n",
    "prob += 10*a + 11*b\n",
    "\n",
    "prob += a + b >= 11\n",
    "prob += a - b <= 5\n",
    "prob += 7*a + 12*b >= 35\n",
    "\n",
    "prob.solve()\n",
    "\n",
    "print(p.value(a))\n",
    "print(p.value(b))\n",
    "print(p.value(a) + p.value(b))\n",
    "print(p.value(prob.objective))"
   ]
  },
  {
   "cell_type": "code",
   "execution_count": 111,
   "metadata": {},
   "outputs": [
    {
     "name": "stdout",
     "output_type": "stream",
     "text": [
      "8.0\n",
      "3.0\n",
      "0.0\n",
      "47.0\n"
     ]
    }
   ],
   "source": [
    "from scipy.optimize import linprog\n",
    "\n",
    "c = [4, 5, 6]\n",
    "\n",
    "A = [\n",
    "    [-1, -1, 0], \n",
    "    [1, -1, 0],  \n",
    "    [-1, -1, 1], \n",
    "    [-7, -12, 0] \n",
    "]\n",
    "\n",
    "b = [-11, 5, 0, -35]\n",
    "\n",
    "x_bounds = (0, None) \n",
    "y_bounds = (0, None) \n",
    "z_bounds = (0, None) \n",
    "\n",
    "result = linprog(c, A_ub=A, b_ub=b, bounds=[x_bounds, y_bounds, z_bounds], method='highs')\n",
    "\n",
    "print(result.x[0])\n",
    "print(result.x[1])\n",
    "print(result.x[2])\n",
    "print(result.fun)\n"
   ]
  },
  {
   "cell_type": "markdown",
   "metadata": {},
   "source": [
    "## Bài 6: Linear programming example 1987 UG exam"
   ]
  },
  {
   "cell_type": "code",
   "execution_count": 112,
   "metadata": {},
   "outputs": [
    {
     "name": "stdout",
     "output_type": "stream",
     "text": [
      "5.222222228794364\n",
      "2.2222222161243166\n",
      "39.44444444071772\n"
     ]
    }
   ],
   "source": [
    "import cvxpy as cp\n",
    "\n",
    "x1 = cp.Variable()\n",
    "x2 = cp.Variable()\n",
    "\n",
    "objective = cp.Maximize(5*x1 + 6*x2)\n",
    "\n",
    "constraint = [\n",
    "    x1 + x2 <= 10,\n",
    "    x1 - x2 >= 3,\n",
    "    5*x1 + 4*x2 <= 35,\n",
    "    x1 >= 0,\n",
    "    x2 >= 0\n",
    "]\n",
    "\n",
    "rs = cp.Problem(objective, constraint)\n",
    "rs.solve()\n",
    "\n",
    "print(x1.value)\n",
    "print(x2.value)\n",
    "print(objective.value)\n"
   ]
  },
  {
   "cell_type": "code",
   "execution_count": 113,
   "metadata": {},
   "outputs": [
    {
     "name": "stdout",
     "output_type": "stream",
     "text": [
      "5.222222222222222\n",
      "2.2222222222222223\n",
      "39.44444444444444\n"
     ]
    }
   ],
   "source": [
    "from scipy.optimize import linprog\n",
    "\n",
    "c = [-5, -6]\n",
    "\n",
    "A = [\n",
    "    [1, 1],   \n",
    "    [-1, 1],  \n",
    "    [5, 4]    \n",
    "]\n",
    "\n",
    "b = [10, -3, 35]\n",
    "\n",
    "x1_bounds = (0, None) \n",
    "x2_bounds = (0, None) \n",
    "\n",
    "result = linprog(c, A_ub=A, b_ub=b, bounds=[x1_bounds, x2_bounds], method='highs')\n",
    "\n",
    "print(result.x[0])\n",
    "print(result.x[1])\n",
    "print(-result.fun) \n"
   ]
  },
  {
   "cell_type": "code",
   "execution_count": 114,
   "metadata": {},
   "outputs": [
    {
     "name": "stdout",
     "output_type": "stream",
     "text": [
      "5.2222222\n",
      "2.2222222\n",
      "39.4444442\n"
     ]
    }
   ],
   "source": [
    "import pulp\n",
    "\n",
    "prob = pulp.LpProblem(\"Maximize_Profit\", pulp.LpMaximize)\n",
    "\n",
    "x1 = pulp.LpVariable(\"x1\", lowBound=0) \n",
    "x2 = pulp.LpVariable(\"x2\", lowBound=0) \n",
    "\n",
    "prob += 5 * x1 + 6 * x2\n",
    "\n",
    "prob += x1 + x2 <= 10\n",
    "prob += x1 - x2 >= 3\n",
    "prob += 5 * x1 + 4 * x2 <= 35\n",
    "\n",
    "prob.solve()\n",
    "\n",
    "print(pulp.value(x1))\n",
    "print(pulp.value(x2))\n",
    "print(pulp.value(prob.objective))\n"
   ]
  },
  {
   "cell_type": "markdown",
   "metadata": {},
   "source": [
    "## bài 7 Linear programming example 1986 UG exam"
   ]
  },
  {
   "cell_type": "code",
   "execution_count": 115,
   "metadata": {},
   "outputs": [
    {
     "name": "stdout",
     "output_type": "stream",
     "text": [
      "1.3333333330196082\n",
      "10.666666671552685\n",
      "146.66666670611508\n"
     ]
    }
   ],
   "source": [
    "import cvxpy as cp\n",
    "\n",
    "xT = cp.Variable()\n",
    "xC = cp.Variable()\n",
    "\n",
    "objective = cp.Maximize(30*xT + 10*xC)\n",
    "\n",
    "constraint = [\n",
    "    6 * xT + 3 * xC <= 40,       \n",
    "    xC >= 3 * xT,                \n",
    "    (xC / 4) + xT <= 4,          \n",
    "    xT >= 0,                    \n",
    "    xC >= 0                     \n",
    "]\n",
    "\n",
    "problem = cp.Problem(objective, constraint)\n",
    "problem.solve()\n",
    "\n",
    "print(xT.value)\n",
    "print(xC.value)\n",
    "print(problem.value)"
   ]
  },
  {
   "cell_type": "code",
   "execution_count": 116,
   "metadata": {},
   "outputs": [
    {
     "name": "stdout",
     "output_type": "stream",
     "text": [
      "1.3333333\n",
      "10.666667\n",
      "146.666669\n"
     ]
    }
   ],
   "source": [
    "import pulp\n",
    "\n",
    "prob = pulp.LpProblem(\"Maximize_Profit\", pulp.LpMaximize)\n",
    "\n",
    "xT = pulp.LpVariable(\"xT\", lowBound=0) \n",
    "xC = pulp.LpVariable(\"xC\", lowBound=0) \n",
    "\n",
    "prob += 30 * xT + 10 * xC\n",
    "\n",
    "prob += 6 * xT + 3 * xC <= 40\n",
    "prob += xC >= 3 * xT\n",
    "prob += xC + 4 * xT <= 16\n",
    "\n",
    "prob.solve()\n",
    "\n",
    "print(pulp.value(xT))\n",
    "print(pulp.value(xC))\n",
    "print(pulp.value(prob.objective))\n"
   ]
  }
 ],
 "metadata": {
  "kernelspec": {
   "display_name": "Python 3",
   "language": "python",
   "name": "python3"
  },
  "language_info": {
   "codemirror_mode": {
    "name": "ipython",
    "version": 3
   },
   "file_extension": ".py",
   "mimetype": "text/x-python",
   "name": "python",
   "nbconvert_exporter": "python",
   "pygments_lexer": "ipython3",
   "version": "3.10.11"
  }
 },
 "nbformat": 4,
 "nbformat_minor": 2
}
