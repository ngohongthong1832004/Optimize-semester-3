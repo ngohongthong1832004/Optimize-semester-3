{
 "cells": [
  {
   "cell_type": "markdown",
   "metadata": {},
   "source": [
    "# Toán ứng dụng và thống kê - Week 8\n",
    "\n",
    "*(Notebook dùng kèm với Lecture Note - TUD&TK - CLC - Week 8)*"
   ]
  },
  {
   "cell_type": "code",
   "execution_count": 1,
   "metadata": {},
   "outputs": [],
   "source": [
    "from fractions import Fraction\n",
    "from matplotlib import pyplot as plt\n",
    "import numpy as np\n",
    "import sympy\n",
    "from sympy import Matrix\n",
    "sympy.init_printing()"
   ]
  },
  {
   "cell_type": "markdown",
   "metadata": {},
   "source": [
    "## Ví dụ 8\n",
    "\n",
    "Khảo sát tính lồi/lõm và tìm các điểm cực trị toàn cục (nếu có) của hàm số 3 biến sau\n",
    "\n",
    "$$\n",
    "f(\\boldsymbol{x}) = f(x_1, x_2, x_3) = x_1^2 + x_2^2 + x_3^2 - x_1x_2 + x_1x_3 + 2x_1 - 6x_3 + 5.\n",
    "$$"
   ]
  },
  {
   "cell_type": "code",
   "execution_count": 2,
   "metadata": {},
   "outputs": [
    {
     "data": {
      "image/png": "[encoded data removed]",
      "text/latex": [
       "$\\displaystyle \\left( \\left[\\begin{matrix}1 & - \\frac{1}{2} & \\frac{1}{2}\\\\- \\frac{1}{2} & 1 & 0\\\\\\frac{1}{2} & 0 & 1\\end{matrix}\\right], \\  \\left[\\begin{matrix}2\\\\0\\\\-6\\end{matrix}\\right], \\  5\\right)$"
      ],
      "text/plain": [
       "⎛⎡ 1    -1/2  1/2⎤  ⎡2 ⎤   ⎞\n",
       "⎜⎢               ⎥  ⎢  ⎥   ⎟\n",
       "⎜⎢-1/2   1     0 ⎥, ⎢0 ⎥, 5⎟\n",
       "⎜⎢               ⎥  ⎢  ⎥   ⎟\n",
       "⎝⎣1/2    0     1 ⎦  ⎣-6⎦   ⎠"
      ]
     },
     "execution_count": 2,
     "metadata": {},
     "output_type": "execute_result"
    }
   ],
   "source": [
    "A = Matrix([[1, Fraction(\"-1/2\"), Fraction(\"1/2\")],\n",
    "            [Fraction(\"-1/2\"), 1, 0],\n",
    "            [Fraction(\"1/2\"), 0, 1]])\n",
    "b = Matrix([2, 0, -6])\n",
    "c = 5\n",
    "\n",
    "A, b, c"
   ]
  },
  {
   "cell_type": "code",
   "execution_count": 3,
   "metadata": {},
   "outputs": [
    {
     "data": {
      "image/png": "[encoded data removed]",
      "text/latex": [
       "$\\displaystyle \\left[\\begin{matrix}x_{1}\\\\x_{2}\\\\x_{3}\\end{matrix}\\right]$"
      ],
      "text/plain": [
       "⎡x₁⎤\n",
       "⎢  ⎥\n",
       "⎢x₂⎥\n",
       "⎢  ⎥\n",
       "⎣x₃⎦"
      ]
     },
     "execution_count": 3,
     "metadata": {},
     "output_type": "execute_result"
    }
   ],
   "source": [
    "x = Matrix(sympy.symbols(\"x_1 x_2 x_3\"))\n",
    "x"
   ]
  },
  {
   "cell_type": "code",
   "execution_count": 4,
   "metadata": {},
   "outputs": [
    {
     "data": {
      "image/png": "[encoded data removed]",
      "text/latex": [
       "$\\displaystyle \\left[\\begin{matrix}x_{1}^{2} - x_{1} x_{2} + x_{1} x_{3} + 2 x_{1} + x_{2}^{2} + x_{3}^{2} - 6 x_{3} + 5\\end{matrix}\\right]$"
      ],
      "text/plain": [
       "⎡  2                            2     2           ⎤\n",
       "⎣x₁  - x₁⋅x₂ + x₁⋅x₃ + 2⋅x₁ + x₂  + x₃  - 6⋅x₃ + 5⎦"
      ]
     },
     "execution_count": 4,
     "metadata": {},
     "output_type": "execute_result"
    }
   ],
   "source": [
    "sympy.simplify(x.T*A*x + b.T*x + Matrix([c]))"
   ]
  },
  {
   "cell_type": "code",
   "execution_count": 5,
   "metadata": {},
   "outputs": [
    {
     "data": {
      "image/png": "[encoded data removed]",
      "text/latex": [
       "$\\displaystyle \\left\\{ 1 : 1, \\  1 - \\frac{\\sqrt{2}}{2} : 1, \\  \\frac{\\sqrt{2}}{2} + 1 : 1\\right\\}$"
      ],
      "text/plain": [
       "⎧          √2     √2       ⎫\n",
       "⎨1: 1, 1 - ──: 1, ── + 1: 1⎬\n",
       "⎩          2      2        ⎭"
      ]
     },
     "execution_count": 5,
     "metadata": {},
     "output_type": "execute_result"
    }
   ],
   "source": [
    "A.eigenvals()"
   ]
  },
  {
   "cell_type": "markdown",
   "metadata": {},
   "source": [
    "Như vậy $A$ là ma trận xác định dương nên $f$ là hàm lồi ngặt. $f$ có một điểm cực tiểu toàn cục duy nhất."
   ]
  },
  {
   "cell_type": "markdown",
   "metadata": {},
   "source": [
    "Vì $A$ xác định dương nên $A$ khả nghịch do đó hệ PTTT \n",
    "\n",
    "$$\n",
    "\\nabla f(\\boldsymbol{x}) = 2A\\boldsymbol{x} + \\boldsymbol{b} = \\boldsymbol{0}\n",
    "$$ \n",
    "\n",
    "có nghiệm duy nhất là\n",
    "\n",
    "$$\n",
    "\\boldsymbol{x} = -\\frac{1}{2}A^{-1}\\boldsymbol{b}.\n",
    "$$"
   ]
  },
  {
   "cell_type": "code",
   "execution_count": 6,
   "metadata": {},
   "outputs": [
    {
     "data": {
      "image/png": "[encoded data removed]",
      "text/latex": [
       "$\\displaystyle \\left[\\begin{matrix}-5\\\\- \\frac{5}{2}\\\\\\frac{11}{2}\\end{matrix}\\right]$"
      ],
      "text/plain": [
       "⎡ -5 ⎤\n",
       "⎢    ⎥\n",
       "⎢-5/2⎥\n",
       "⎢    ⎥\n",
       "⎣11/2⎦"
      ]
     },
     "execution_count": 6,
     "metadata": {},
     "output_type": "execute_result"
    }
   ],
   "source": [
    "x = Fraction(\"-1/2\") * A.inv() * b\n",
    "x"
   ]
  },
  {
   "cell_type": "code",
   "execution_count": 7,
   "metadata": {},
   "outputs": [
    {
     "data": {
      "image/png": "[encoded data removed]",
      "text/latex": [
       "$\\displaystyle \\left[\\begin{matrix}- \\frac{33}{2}\\end{matrix}\\right]$"
      ],
      "text/plain": [
       "[-33/2]"
      ]
     },
     "execution_count": 7,
     "metadata": {},
     "output_type": "execute_result"
    }
   ],
   "source": [
    "x.T*A* x + b.T*x + Matrix([c])"
   ]
  },
  {
   "cell_type": "markdown",
   "metadata": {},
   "source": [
    "Như vậy $f$ đạt giá trị nhỏ nhất $-\\frac{33}{2}$ tại điểm cực tiểu toàn cục $(-5, -\\frac{5}{2}, \\frac{11}{2})$."
   ]
  },
  {
   "cell_type": "markdown",
   "metadata": {},
   "source": [
    "## Ví dụ 11"
   ]
  },
  {
   "cell_type": "code",
   "execution_count": 8,
   "metadata": {},
   "outputs": [
    {
     "data": {
      "image/png": "[encoded data removed]",
      "text/latex": [
       "$\\displaystyle \\left( \\left[\\begin{matrix}2 & 0\\\\-1 & 1\\\\0 & 2\\end{matrix}\\right], \\  \\left[\\begin{matrix}1\\\\0\\\\-1\\end{matrix}\\right]\\right)$"
      ],
      "text/plain": [
       "⎛⎡2   0⎤  ⎡1 ⎤⎞\n",
       "⎜⎢     ⎥  ⎢  ⎥⎟\n",
       "⎜⎢-1  1⎥, ⎢0 ⎥⎟\n",
       "⎜⎢     ⎥  ⎢  ⎥⎟\n",
       "⎝⎣0   2⎦  ⎣-1⎦⎠"
      ]
     },
     "execution_count": 8,
     "metadata": {},
     "output_type": "execute_result"
    }
   ],
   "source": [
    "A = Matrix([[2, 0], [-1, 1], [0, 2]])\n",
    "b = Matrix([1, 0, -1])\n",
    "A, b"
   ]
  },
  {
   "cell_type": "code",
   "execution_count": 9,
   "metadata": {},
   "outputs": [
    {
     "data": {
      "image/png": "[encoded data removed]",
      "text/latex": [
       "$\\displaystyle \\left[\\begin{matrix}5 & -1\\\\-1 & 5\\end{matrix}\\right]$"
      ],
      "text/plain": [
       "⎡5   -1⎤\n",
       "⎢      ⎥\n",
       "⎣-1  5 ⎦"
      ]
     },
     "execution_count": 9,
     "metadata": {},
     "output_type": "execute_result"
    }
   ],
   "source": [
    "A.T * A"
   ]
  },
  {
   "cell_type": "code",
   "execution_count": 10,
   "metadata": {},
   "outputs": [
    {
     "data": {
      "image/png": "[encoded data removed]",
      "text/latex": [
       "$\\displaystyle \\left[\\begin{matrix}\\frac{5}{24} & \\frac{1}{24}\\\\\\frac{1}{24} & \\frac{5}{24}\\end{matrix}\\right]$"
      ],
      "text/plain": [
       "⎡5/24  1/24⎤\n",
       "⎢          ⎥\n",
       "⎣1/24  5/24⎦"
      ]
     },
     "execution_count": 10,
     "metadata": {},
     "output_type": "execute_result"
    }
   ],
   "source": [
    "(A.T*A)**(-1)"
   ]
  },
  {
   "cell_type": "code",
   "execution_count": 11,
   "metadata": {},
   "outputs": [
    {
     "data": {
      "image/png": "[encoded data removed]",
      "text/latex": [
       "$\\displaystyle \\left( \\left[\\begin{matrix}\\frac{5}{12} & - \\frac{1}{6} & \\frac{1}{12}\\\\\\frac{1}{12} & \\frac{1}{6} & \\frac{5}{12}\\end{matrix}\\right], \\  \\left[\\begin{matrix}\\frac{5}{12} & - \\frac{1}{6} & \\frac{1}{12}\\\\\\frac{1}{12} & \\frac{1}{6} & \\frac{5}{12}\\end{matrix}\\right]\\right)$"
      ],
      "text/plain": [
       "⎛⎡5/12  -1/6  1/12⎤  ⎡5/12  -1/6  1/12⎤⎞\n",
       "⎜⎢                ⎥, ⎢                ⎥⎟\n",
       "⎝⎣1/12  1/6   5/12⎦  ⎣1/12  1/6   5/12⎦⎠"
      ]
     },
     "execution_count": 11,
     "metadata": {},
     "output_type": "execute_result"
    }
   ],
   "source": [
    "(A.T*A)**(-1)*A.T, A.pinv()"
   ]
  },
  {
   "cell_type": "code",
   "execution_count": 12,
   "metadata": {},
   "outputs": [
    {
     "data": {
      "image/png": "[encoded data removed]",
      "text/latex": [
       "$\\displaystyle \\left[\\begin{matrix}\\frac{1}{3}\\\\- \\frac{1}{3}\\end{matrix}\\right]$"
      ],
      "text/plain": [
       "⎡1/3 ⎤\n",
       "⎢    ⎥\n",
       "⎣-1/3⎦"
      ]
     },
     "execution_count": 12,
     "metadata": {},
     "output_type": "execute_result"
    }
   ],
   "source": [
    "x_hat = A.pinv() * b\n",
    "x_hat"
   ]
  },
  {
   "cell_type": "code",
   "execution_count": 13,
   "metadata": {},
   "outputs": [
    {
     "data": {
      "image/png": "[encoded data removed]",
      "text/latex": [
       "$\\displaystyle \\left( \\left[\\begin{matrix}- \\frac{1}{3}\\\\- \\frac{2}{3}\\\\\\frac{1}{3}\\end{matrix}\\right], \\  \\frac{2}{3}, \\  \\frac{\\sqrt{6}}{3}\\right)$"
      ],
      "text/plain": [
       "⎛⎡-1/3⎤         ⎞\n",
       "⎜⎢    ⎥       √6⎟\n",
       "⎜⎢-2/3⎥, 2/3, ──⎟\n",
       "⎜⎢    ⎥       3 ⎟\n",
       "⎝⎣1/3 ⎦         ⎠"
      ]
     },
     "execution_count": 13,
     "metadata": {},
     "output_type": "execute_result"
    }
   ],
   "source": [
    "r_hat = A*x_hat - b\n",
    "r_hat, r_hat.norm() ** 2, r_hat.norm()"
   ]
  },
  {
   "cell_type": "code",
   "execution_count": 14,
   "metadata": {},
   "outputs": [
    {
     "data": {
      "image/png": "[encoded data removed]",
      "text/latex": [
       "$\\displaystyle \\left( \\left[\\begin{matrix}0\\\\-1\\\\0\\end{matrix}\\right], \\  1\\right)$"
      ],
      "text/plain": [
       "⎛⎡0 ⎤   ⎞\n",
       "⎜⎢  ⎥   ⎟\n",
       "⎜⎢-1⎥, 1⎟\n",
       "⎜⎢  ⎥   ⎟\n",
       "⎝⎣0 ⎦   ⎠"
      ]
     },
     "execution_count": 14,
     "metadata": {},
     "output_type": "execute_result"
    }
   ],
   "source": [
    "x_tilde = Matrix([Fraction(\"1/2\"), Fraction(\"-1/2\")])\n",
    "r_tilde = A*x_tilde - b\n",
    "r_tilde, r_tilde.norm()"
   ]
  },
  {
   "cell_type": "markdown",
   "metadata": {},
   "source": [
    "## Polynomial fitting"
   ]
  },
  {
   "cell_type": "code",
   "execution_count": 15,
   "metadata": {},
   "outputs": [],
   "source": [
    "def y(x):\n",
    "    a = [1, 2, -1, 0, 1]\n",
    "    return sum(ai*x**i for i, ai in enumerate(a))"
   ]
  },
  {
   "cell_type": "code",
   "execution_count": 16,
   "metadata": {},
   "outputs": [
    {
     "data": {
      "image/png": "[encoded data removed]",
      "text/latex": [
       "$\\displaystyle \\left( \\left[ -2, \\  -1, \\  0, \\  1, \\  2\\right], \\  \\left[ 9, \\  -1, \\  1, \\  3, \\  17\\right]\\right)$"
      ],
      "text/plain": [
       "([-2, -1, 0, 1, 2], [9, -1, 1, 3, 17])"
      ]
     },
     "execution_count": 16,
     "metadata": {},
     "output_type": "execute_result"
    }
   ],
   "source": [
    "xs = list(range(-2, 3))\n",
    "ys = [y(x) for x in xs]\n",
    "xs, ys"
   ]
  },
  {
   "cell_type": "code",
   "execution_count": 17,
   "metadata": {},
   "outputs": [
    {
     "data": {
      "image/png": "[encoded data removed]",
      "text/plain": [
       "<Figure size 432x288 with 1 Axes>"
      ]
     },
     "metadata": {
      "needs_background": "light"
     },
     "output_type": "display_data"
    }
   ],
   "source": [
    "plt.plot(xs, ys, \"o\")\n",
    "plt.show()"
   ]
  },
  {
   "cell_type": "code",
   "execution_count": 18,
   "metadata": {},
   "outputs": [],
   "source": [
    "def getA_y(k, xs, ys):\n",
    "    As = [[xi**j for j in range(k + 1)] for xi in xs]\n",
    "    return np.array(As), np.array(ys)\n",
    "\n",
    "def f_hat(a_hat, x):\n",
    "    return sum(ai * x**i for i, ai in enumerate(a_hat))\n",
    "\n",
    "ts = np.linspace(min(xs) - 1, max(xs) + 1, num=50)"
   ]
  },
  {
   "cell_type": "markdown",
   "metadata": {},
   "source": [
    "### Khớp đa thức bậc 0 (hằng số)"
   ]
  },
  {
   "cell_type": "code",
   "execution_count": 19,
   "metadata": {},
   "outputs": [
    {
     "data": {
      "text/plain": [
       "(array([[1],\n",
       "        [1],\n",
       "        [1],\n",
       "        [1],\n",
       "        [1]]),\n",
       " array([ 9, -1,  1,  3, 17]),\n",
       " array([[5]]),\n",
       " array([[0.2]]))"
      ]
     },
     "execution_count": 19,
     "metadata": {},
     "output_type": "execute_result"
    }
   ],
   "source": [
    "A, y = getA_y(0, xs, ys)\n",
    "A, y, A.T@A, np.linalg.inv(A.T@A)"
   ]
  },
  {
   "cell_type": "code",
   "execution_count": 20,
   "metadata": {},
   "outputs": [
    {
     "data": {
      "text/plain": [
       "(array([5.8]), 5.8)"
      ]
     },
     "execution_count": 20,
     "metadata": {},
     "output_type": "execute_result"
    }
   ],
   "source": [
    "a_hat = np.linalg.pinv(A) @ y\n",
    "a_hat, sum(ys)/len(ys)"
   ]
  },
  {
   "cell_type": "code",
   "execution_count": 21,
   "metadata": {},
   "outputs": [
    {
     "data": {
      "image/png": "[encoded data removed]",
      "text/plain": [
       "<Figure size 432x288 with 1 Axes>"
      ]
     },
     "metadata": {
      "needs_background": "light"
     },
     "output_type": "display_data"
    }
   ],
   "source": [
    "plt.plot(xs, ys, \"o\", color=\"blue\")\n",
    "plt.plot(ts, [f_hat(a_hat, t) for t in ts], color=\"red\")\n",
    "plt.show()"
   ]
  },
  {
   "cell_type": "markdown",
   "metadata": {},
   "source": [
    "### Khớp đa thức bậc 1 (đường thẳng)"
   ]
  },
  {
   "cell_type": "code",
   "execution_count": 22,
   "metadata": {},
   "outputs": [
    {
     "data": {
      "text/plain": [
       "(array([[ 1, -2],\n",
       "        [ 1, -1],\n",
       "        [ 1,  0],\n",
       "        [ 1,  1],\n",
       "        [ 1,  2]]),\n",
       " array([ 9, -1,  1,  3, 17]),\n",
       " array([[ 5,  0],\n",
       "        [ 0, 10]]),\n",
       " array([[0.2, 0. ],\n",
       "        [0. , 0.1]]))"
      ]
     },
     "execution_count": 22,
     "metadata": {},
     "output_type": "execute_result"
    }
   ],
   "source": [
    "A, y = getA_y(1, xs, ys)\n",
    "A, y, A.T@A, np.linalg.inv(A.T@A)"
   ]
  },
  {
   "cell_type": "code",
   "execution_count": 23,
   "metadata": {},
   "outputs": [
    {
     "data": {
      "text/plain": [
       "array([5.8, 2. ])"
      ]
     },
     "execution_count": 23,
     "metadata": {},
     "output_type": "execute_result"
    }
   ],
   "source": [
    "a_hat = np.linalg.pinv(A) @ y\n",
    "a_hat"
   ]
  },
  {
   "cell_type": "code",
   "execution_count": 24,
   "metadata": {},
   "outputs": [
    {
     "data": {
      "image/png": "[encoded data removed]",
      "text/plain": [
       "<Figure size 432x288 with 1 Axes>"
      ]
     },
     "metadata": {
      "needs_background": "light"
     },
     "output_type": "display_data"
    }
   ],
   "source": [
    "plt.plot(xs, ys, \"o\", color=\"blue\")\n",
    "plt.plot(ts, [f_hat(a_hat, t) for t in ts], color=\"red\")\n",
    "plt.show()"
   ]
  },
  {
   "cell_type": "markdown",
   "metadata": {},
   "source": [
    "### Khớp đa thức bậc 2 (parabol)"
   ]
  },
  {
   "cell_type": "code",
   "execution_count": 25,
   "metadata": {},
   "outputs": [
    {
     "data": {
      "text/plain": [
       "(array([[ 1, -2,  4],\n",
       "        [ 1, -1,  1],\n",
       "        [ 1,  0,  0],\n",
       "        [ 1,  1,  1],\n",
       "        [ 1,  2,  4]]),\n",
       " array([ 9, -1,  1,  3, 17]),\n",
       " array([[ 5,  0, 10],\n",
       "        [ 0, 10,  0],\n",
       "        [10,  0, 34]]),\n",
       " array([[ 0.48571429,  0.        , -0.14285714],\n",
       "        [ 0.        ,  0.1       ,  0.        ],\n",
       "        [-0.14285714, -0.        ,  0.07142857]]))"
      ]
     },
     "execution_count": 25,
     "metadata": {},
     "output_type": "execute_result"
    }
   ],
   "source": [
    "A, y = getA_y(2, xs, ys)\n",
    "A, y, A.T@A, np.linalg.inv(A.T@A)"
   ]
  },
  {
   "cell_type": "code",
   "execution_count": 26,
   "metadata": {},
   "outputs": [
    {
     "data": {
      "text/plain": [
       "array([-1.05714286,  2.        ,  3.42857143])"
      ]
     },
     "execution_count": 26,
     "metadata": {},
     "output_type": "execute_result"
    }
   ],
   "source": [
    "a_hat = np.linalg.pinv(A) @ y\n",
    "a_hat"
   ]
  },
  {
   "cell_type": "code",
   "execution_count": 27,
   "metadata": {},
   "outputs": [
    {
     "data": {
      "image/png": "[encoded data removed]",
      "text/plain": [
       "<Figure size 432x288 with 1 Axes>"
      ]
     },
     "metadata": {
      "needs_background": "light"
     },
     "output_type": "display_data"
    }
   ],
   "source": [
    "plt.plot(xs, ys, \"o\", color=\"blue\")\n",
    "plt.plot(ts, [f_hat(a_hat, t) for t in ts], color=\"red\")\n",
    "plt.show()"
   ]
  },
  {
   "cell_type": "markdown",
   "metadata": {},
   "source": [
    "### Các đa thức bậc cao hơn"
   ]
  },
  {
   "cell_type": "code",
   "execution_count": 28,
   "metadata": {},
   "outputs": [
    {
     "name": "stdout",
     "output_type": "stream",
     "text": [
      "[-1.05714286e+00  2.00000000e+00  3.42857143e+00  4.44089210e-16]\n"
     ]
    },
    {
     "data": {
      "image/png": "[encoded data removed]",
      "text/plain": [
       "<Figure size 432x288 with 1 Axes>"
      ]
     },
     "metadata": {
      "needs_background": "light"
     },
     "output_type": "display_data"
    }
   ],
   "source": [
    "k = 3\n",
    "A, y = getA_y(k, xs, ys)\n",
    "a_hat = np.linalg.pinv(A) @ y\n",
    "print(a_hat)\n",
    "plt.plot(xs, ys, \"o\", color=\"blue\")\n",
    "plt.plot(ts, [f_hat(a_hat, t) for t in ts], color=\"red\")\n",
    "plt.show()"
   ]
  },
  {
   "cell_type": "code",
   "execution_count": 29,
   "metadata": {},
   "outputs": [
    {
     "name": "stdout",
     "output_type": "stream",
     "text": [
      "[ 1.  2. -1.  0.  1.]\n"
     ]
    },
    {
     "data": {
      "image/png": "[encoded data removed]",
      "text/plain": [
       "<Figure size 432x288 with 1 Axes>"
      ]
     },
     "metadata": {
      "needs_background": "light"
     },
     "output_type": "display_data"
    }
   ],
   "source": [
    "k = 4\n",
    "A, y = getA_y(k, xs, ys)\n",
    "a_hat = np.linalg.pinv(A) @ y\n",
    "print(a_hat)\n",
    "plt.plot(xs, ys, \"o\", color=\"blue\")\n",
    "plt.plot(ts, [f_hat(a_hat, t) for t in ts], color=\"red\")\n",
    "plt.show()"
   ]
  },
  {
   "cell_type": "code",
   "execution_count": 30,
   "metadata": {},
   "outputs": [
    {
     "name": "stdout",
     "output_type": "stream",
     "text": [
      "[ 1.          1.23809524 -1.          0.95238095  1.         -0.19047619]\n"
     ]
    },
    {
     "data": {
      "image/png": "[encoded data removed]",
      "text/plain": [
       "<Figure size 432x288 with 1 Axes>"
      ]
     },
     "metadata": {
      "needs_background": "light"
     },
     "output_type": "display_data"
    }
   ],
   "source": [
    "k = 5\n",
    "A, y = getA_y(k, xs, ys)\n",
    "a_hat = np.linalg.pinv(A) @ y\n",
    "print(a_hat)\n",
    "plt.plot(xs, ys, \"o\", color=\"blue\")\n",
    "plt.plot(ts, [f_hat(a_hat, t) for t in ts], color=\"red\")\n",
    "plt.show()"
   ]
  },
  {
   "cell_type": "code",
   "execution_count": 31,
   "metadata": {},
   "outputs": [
    {
     "name": "stdout",
     "output_type": "stream",
     "text": [
      "[ 1.          1.23809524 -0.14285714  0.95238095 -0.07142857 -0.19047619\n",
      "  0.21428571]\n"
     ]
    },
    {
     "data": {
      "image/png": "[encoded data removed]",
      "text/plain": [
       "<Figure size 432x288 with 1 Axes>"
      ]
     },
     "metadata": {
      "needs_background": "light"
     },
     "output_type": "display_data"
    }
   ],
   "source": [
    "k = 6\n",
    "A, y = getA_y(k, xs, ys)\n",
    "a_hat = np.linalg.pinv(A) @ y\n",
    "print(a_hat)\n",
    "plt.plot(xs, ys, \"o\", color=\"blue\")\n",
    "plt.plot(ts, [f_hat(a_hat, t) for t in ts], color=\"red\")\n",
    "plt.show()"
   ]
  }
 ],
 "metadata": {
  "hide_input": false,
  "kernelspec": {
   "display_name": "Python 3.7.6 64-bit ('base': conda)",
   "language": "python",
   "name": "python37664bitbaseconda0b8c7c8e841a463980d22293ed402c2a"
  },
  "language_info": {
   "codemirror_mode": {
    "name": "ipython",
    "version": 3
   },
   "file_extension": ".py",
   "mimetype": "text/x-python",
   "name": "python",
   "nbconvert_exporter": "python",
   "pygments_lexer": "ipython3",
   "version": "3.7.6"
  }
 },
 "nbformat": 4,
 "nbformat_minor": 4
}
